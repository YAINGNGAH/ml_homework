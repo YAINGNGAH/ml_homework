{
  "cells": [
    {
      "cell_type": "markdown",
      "metadata": {
        "id": "HcF9My_FhLuk"
      },
      "source": [
        "## Машинное обучение 1, ПМИ ФКН ВШЭ\n",
        "\n",
        "## Практическое домашнее задание 1\n",
        "\n",
        "### Общая информация\n",
        "\n",
        "Дата выдачи: 25.09.2024\n",
        "\n",
        "Мягкий дедлайн: 23:59MSK 06.10.2024\n",
        "\n",
        "Жесткий дедлайн: 23:59MSK 10.10.2024"
      ]
    },
    {
      "cell_type": "markdown",
      "metadata": {
        "id": "G64TptyJhLuo"
      },
      "source": [
        "### О задании\n",
        "\n",
        "Задание состоит из двух разделов, посвященных работе с табличными данными с помощью библиотеки `pandas` и визуализации с помощью `matplotlib`. В первом разделе вам предстоит выполнить базовые задания с помощью вышеуказанных библиотек, а во втором распределить студентов по курсам. Баллы даются за выполнение отдельных пунктов. Задачи в рамках одного раздела рекомендуется решать в том порядке, в котором они даны в задании.\n",
        "\n",
        "Задание направлено на освоение jupyter notebook (будет использоваться в дальнейших заданиях), библиотек pandas и matplotlib.\n",
        "\n",
        "### Оценивание и штрафы\n",
        "Каждая из задач имеет определенную «стоимость» (указана в скобках около задачи). Максимально допустимая оценка за работу — 10 баллов без учёта бонусов. Сдавать задание после жёсткого дедлайна нельзя.\n",
        "\n",
        "Задание выполняется самостоятельно. «Похожие» решения считаются плагиатом и все задействованные студенты (в том числе те, у кого списали) не могут получить за него больше 0 баллов (подробнее о плагиате см. на странице курса). Если вы нашли решение какого-то из заданий (или его часть) в открытом источнике, необходимо указать ссылку на этот источник (скорее всего вы будете не единственным, кто это нашел, поэтому чтобы исключить подозрение в плагиате, необходима ссылка на источник).\n",
        "\n",
        "### Формат сдачи\n",
        "Задания сдаются через систему Anytask. Инвайт можно получить у семинариста или ассистента. Присылать необходимо ноутбук с выполненным заданием. Сам ноутбук называйте в формате `homework-practice-01-pandas-Username.ipynb`, где Username — ваша фамилия.\n",
        "\n",
        "Для удобства проверки самостоятельно посчитайте свою максимальную оценку (исходя из набора решенных задач) и укажите ниже.\n",
        "\n",
        "Оценка: 10."
      ]
    },
    {
      "cell_type": "markdown",
      "metadata": {
        "id": "BaXlfHE_hLup"
      },
      "source": [
        "## 0. Введение"
      ]
    },
    {
      "cell_type": "markdown",
      "metadata": {
        "id": "wirAvJNxhLup"
      },
      "source": [
        "Сейчас мы находимся в jupyter-ноутбуке (или ipython-ноутбуке). Это удобная среда для написания кода, проведения экспериментов, изучения данных, построения визуализаций и других нужд, не связанных с написанием production-кода.\n",
        "\n",
        "Ноутбук состоит из ячеек, каждая из которых может быть либо ячейкой с кодом, либо ячейкой с текстом размеченным и неразмеченным. Текст поддерживает markdown-разметку и формулы в Latex.\n",
        "\n",
        "Для работы с содержимым ячейки используется *режим редактирования* (*Edit mode*, включается нажатием клавиши **Enter** после выбора ячейки), а для навигации между ячейками искользуется *командный режим* (*Command mode*, включается нажатием клавиши **Esc**). Тип ячейки можно задать в командном режиме либо с помощью горячих клавиш (**y** to code, **m** to markdown, **r** to edit raw text), либо в меню *Cell -> Cell type*.\n",
        "\n",
        "После заполнения ячейки нужно нажать *Shift + Enter*, эта команда обработает содержимое ячейки: проинтерпретирует код или сверстает размеченный текст."
      ]
    },
    {
      "cell_type": "code",
      "execution_count": 1848,
      "metadata": {
        "id": "aQ2_j3nkhLuq",
        "colab": {
          "base_uri": "https://localhost:8080/"
        },
        "outputId": "d70ec66a-1868-4317-9dc9-33b97fc5938b"
      },
      "outputs": [
        {
          "output_type": "execute_result",
          "data": {
            "text/plain": [
              "4"
            ]
          },
          "metadata": {},
          "execution_count": 1848
        }
      ],
      "source": [
        "# ячейка с кодом, при выполнении которой появится output\n",
        "2 + 2"
      ]
    },
    {
      "cell_type": "markdown",
      "metadata": {
        "id": "ZlulCwVKhLur"
      },
      "source": [
        "Ячейка с неразмеченным текстом."
      ]
    },
    {
      "cell_type": "markdown",
      "metadata": {
        "id": "A4wkVlIehLur"
      },
      "source": [
        "Попробуйте создать свои ячейки, написать какой-нибудь код и текст какой-нибудь формулой."
      ]
    },
    {
      "cell_type": "code",
      "execution_count": 1849,
      "metadata": {
        "id": "BIuaYSvqhLus",
        "colab": {
          "base_uri": "https://localhost:8080/"
        },
        "outputId": "7606f80b-ea11-4d36-929b-88e838e24267"
      },
      "outputs": [
        {
          "output_type": "stream",
          "name": "stdout",
          "text": [
            "LMAO\n"
          ]
        }
      ],
      "source": [
        "print(\"LMAO\")"
      ]
    },
    {
      "cell_type": "markdown",
      "source": [
        "\n",
        "\n",
        "$$ \\LaTeX $$"
      ],
      "metadata": {
        "id": "3l8cNqK47xqY"
      }
    },
    {
      "cell_type": "markdown",
      "metadata": {
        "id": "iWs6ljrIhLus"
      },
      "source": [
        "[Здесь](https://athena.brynmawr.edu/jupyter/hub/dblank/public/Jupyter%20Notebook%20Users%20Manual.ipynb) находится <s>не</s>большая заметка о используемом языке разметки Markdown. Он позволяет:\n",
        "\n",
        "0. Составлять упорядоченные списки\n",
        "1. Выделять *текст* <s>при</s> **необходимости**\n",
        "2. Добавлять [ссылки](http://imgs.xkcd.com/comics/the_universal_label.png)\n",
        "\n",
        "\n",
        "* Составлять неупорядоченные списки\n",
        "\n",
        "Делать вставки с помощью LaTex:\n",
        "    \n",
        "$\n",
        "\\left\\{\n",
        "\\begin{array}{ll}\n",
        "x = 16 \\sin^3 (t) \\\\\n",
        "y = 13 \\cos (t) - 5 \\cos (2t) - 2 \\cos (3t) - \\cos (4t) \\\\\n",
        "t \\in [0, 2 \\pi]\n",
        "\\end{array}\n",
        "\\right.$"
      ]
    },
    {
      "cell_type": "markdown",
      "metadata": {
        "id": "6fmTGcXOhLus"
      },
      "source": [
        "А ещё можно вставлять картинки, или гифки, или что захотите:\n",
        "\n",
        "<img src=\"https://media1.tenor.com/images/9b8fbe9214504bcf6c60fe4e4f7e114e/tenor.gif?itemid=5416416\" style=\"width: 400px\">"
      ]
    },
    {
      "cell_type": "markdown",
      "metadata": {
        "id": "J_toGw7DhLut"
      },
      "source": [
        "### Google Colab"
      ]
    },
    {
      "cell_type": "markdown",
      "metadata": {
        "id": "jpkbCVjGhLut"
      },
      "source": [
        "Что за колаб?\n",
        "\n",
        "**Google Colab (Colaboratory)** это **Jupyter Notebook + Cloud + Google Drive.**\n",
        "\n",
        "Компания Google предоставляет возможность бесплатно запускать ноутбуки (предварительно загрузив их на свой гугл-диск) прямо в облаке. При этом вам не требуется установка никаких пакетов на свою машину, а работать можно прямиком из браузера. Вот ссылка:"
      ]
    },
    {
      "cell_type": "markdown",
      "metadata": {
        "id": "06MQog3yhLut"
      },
      "source": [
        "https://colab.research.google.com"
      ]
    },
    {
      "cell_type": "markdown",
      "metadata": {
        "id": "5_hfWXKPhLut"
      },
      "source": [
        "При использовании вы увидите много сходств с jupyter ноутбуком. Одним из преимуществ является доступность GPU, соответствующую опцию можно активировать в настройках сервиса. При желании вы сможете найти в интернете много туториалов по использованию или разобраться самостоятельно"
      ]
    },
    {
      "cell_type": "markdown",
      "source": [
        "### Kaggle\n",
        "\n",
        "Альтернативой является **Kaggle**, он же площадка для самых разных соревнований по машинному обучению\n",
        "\n",
        "Он, как и колаб, предоставляет бесплатный GPU, и даже не один, с чётким лимитом в 30 часов в неделю (colab может его внезапно отобрать, kaggle - нет) более мощные CPU с большим числом ядер, и больше Гб ОЗУ (раз так в 2.5)\n",
        "\n",
        "https://www.kaggle.com\n",
        "\n",
        "К сожалению мир не идеален, недостатки следующие:\n",
        "- необходимость загружать датасеты через специальную кнопочку\n",
        "- невозможность использовать свои скрипты и модули :(\n",
        "- нужно тыкать техподдержку, чтобы создать аккаунт из России"
      ],
      "metadata": {
        "id": "DcRcwHpG8pxB"
      }
    },
    {
      "cell_type": "markdown",
      "metadata": {
        "id": "sUe2vnFGhLuu"
      },
      "source": [
        "## 1. Табличные данные и Pandas"
      ]
    },
    {
      "cell_type": "markdown",
      "metadata": {
        "id": "DJQzjjqJhLuu"
      },
      "source": [
        "Pandas — удобная библиотека для работы с табличными данными в Python, если данных не слишком много и они помещаются в оперативную память вашего компьютера. Несмотря на неэффективность реализации и некоторые проблемы, библиотека стала стандартом в анализе данных.\n",
        "\n",
        "Основной объект в `pandas` — это `pd.DataFrame`, представляющий собой таблицу с именованными колонками различных типов, индексом (может быть многоуровневым). DataFrame можно создавать, считывая таблицу из файла или задавая вручную из других объектов.\n",
        "\n",
        "В этой части потребуется выполнить несколько небольших заданий. Можно пойти двумя путями: сначала изучить материалы, а потом приступить к заданиям, или же разбираться \"по ходу\". Выбирайте сами.\n",
        "\n",
        "Материалы:\n",
        "1. [Pandas за 10 минут из официального руководства](http://pandas.pydata.org/pandas-docs/stable/10min.html)\n",
        "2. [Документация](http://pandas.pydata.org/pandas-docs/stable/index.html) (стоит обращаться, если не понятно, как вызывать конкретный метод)\n",
        "3. [Примеры использования функционала](http://nbviewer.jupyter.org/github/justmarkham/pandas-videos/blob/master/pandas.ipynb)\n",
        "\n",
        "Многие из заданий можно выполнить несколькими способами. Не существуют единственно верного, но попробуйте максимально задействовать арсенал pandas и ориентируйтесь на простоту и понятность вашего кода. Мы не будем подсказывать, что нужно использовать для решения конкретной задачи, попробуйте находить необходимый функционал сами (название метода чаще всего очевидно). В помощь вам документация, поиск и StackOverflow."
      ]
    },
    {
      "cell_type": "code",
      "execution_count": 1850,
      "metadata": {
        "id": "26zbFY25hLuv",
        "outputId": "55936955-f6bc-42e2-b25f-a03c328d8f48",
        "colab": {
          "base_uri": "https://localhost:8080/"
        }
      },
      "outputs": [
        {
          "output_type": "stream",
          "name": "stdout",
          "text": [
            "Populating the interactive namespace from numpy and matplotlib\n"
          ]
        }
      ],
      "source": [
        "%pylab inline\n",
        "import pandas as pd\n",
        "import numpy as np"
      ]
    },
    {
      "cell_type": "markdown",
      "metadata": {
        "id": "QZmj3q3c8A8c"
      },
      "source": [
        "<span style=\"color:red\">Перед выполнением задания необходимо ознакомиться с первым семинаром (seminars/sem01-pandas.ipynb) </span>.\n",
        "\n",
        "Это поможет вам получить общее понимание происходяшего и успешнее справиться с заданием.\n",
        "\n",
        "Также успешному выполнению способствует внимательное чтение текста задания от начала до конца.\n",
        "\n",
        "Удачи!"
      ]
    },
    {
      "cell_type": "markdown",
      "metadata": {
        "id": "dneJl9TyhLuv"
      },
      "source": [
        "Скачаем подготовленные на семинаре данные:"
      ]
    },
    {
      "cell_type": "code",
      "execution_count": 1851,
      "metadata": {
        "id": "rj_I0RslhLuw"
      },
      "outputs": [],
      "source": [
        "!wget  -O 'end_seminar.xlsx' -q 'https://www.dropbox.com/s/f4rm8sjc3v99p0m/_end_seminar.xlsx?dl=0'"
      ]
    },
    {
      "cell_type": "markdown",
      "metadata": {
        "id": "5hp7bn_ThLuw"
      },
      "source": [
        "Для пользователей Windows: скачайте файл самостоятельно и поместите его в папку с тетрадкой. Или попробуйте один из следующих вариантов:"
      ]
    },
    {
      "cell_type": "code",
      "execution_count": 1852,
      "metadata": {
        "id": "4h4_BaX8hLuw"
      },
      "outputs": [],
      "source": [
        "# !powershell iwr -outf somefile https://somesite/somefile"
      ]
    },
    {
      "cell_type": "code",
      "execution_count": 1853,
      "metadata": {
        "id": "7bHroLGChLuw"
      },
      "outputs": [],
      "source": [
        "# !pip install wget\n",
        "# import wget\n",
        "# wget.download('https://dropbox.com/s/f4rm8sjc3v99p0m/_end_seminar.xlsx?dl=1', 'end_seminar.xlsx')"
      ]
    },
    {
      "cell_type": "markdown",
      "metadata": {
        "id": "VFs_6IythLux"
      },
      "source": [
        "##### В первой части задания (до раздела \"Распределение студентов по курсам\") использование циклов запрещается и повлечет за собой снижение оценки. Использование <code>vectorize</code> и  <code>apply</code>, <code>apply_along_axis</code> и всего, где можно применить лямбда-функции (`assign`, `map`, ...) крайне нежелательно"
      ]
    },
    {
      "cell_type": "markdown",
      "metadata": {
        "id": "shFkfJkohLux"
      },
      "source": [
        "Для каждой задачи из этого раздела вы должны написать код для получения ответа, а также дать текстовый ответ, если он предполагается.\n",
        "\n",
        "На некоторые вопросы вы можете получить путём пристального взгляда на таблицу, но это не будет засчитываться. Вы в любом случае должны получить ответ с помощью кода."
      ]
    },
    {
      "cell_type": "markdown",
      "metadata": {
        "id": "gDD85M7bhLux"
      },
      "source": [
        "#### 1. [0.5 баллов] Откройте файл с таблицей (не забудьте про её формат). Выведите 3 последних строки.\n",
        "\n",
        "Посмотрите на данные и скажите, что они из себя представляют, сколько в таблице строк, какие столбцы? (на это не надо отвечать, просто подумайте об этом)"
      ]
    },
    {
      "cell_type": "code",
      "execution_count": 1854,
      "metadata": {
        "id": "PKulur3LhLuy",
        "colab": {
          "base_uri": "https://localhost:8080/",
          "height": 320
        },
        "outputId": "82be30d4-d6fe-4cc2-f171-ad4ec4f99855"
      },
      "outputs": [
        {
          "output_type": "execute_result",
          "data": {
            "text/plain": [
              "                  timestamp                                id  rating  \\\n",
              "358 2020-05-20 11:54:38.318  d7118b44c7e8fdbbaaca226d2da6fef1    1111   \n",
              "359 2020-05-23 21:16:40.916  79d14db48e4737af731960ae212d5134     966   \n",
              "360 2020-05-23 21:16:40.916  f2d210ace25a841e1e58036b257d5d47    1195   \n",
              "\n",
              "     18_group  is_mi                                           fall_1  \\\n",
              "358       NaN    NaN  Сбор и обработка данных с помощью краудсорсинга   \n",
              "359       NaN    NaN                 Безопасность компьютерных систем   \n",
              "360       NaN    NaN                Анализ неструктурированных данных   \n",
              "\n",
              "                                                fall_2  \\\n",
              "358                        Statistical Learning Theory   \n",
              "359  Принятие решений в условиях риска и неопределё...   \n",
              "360                      Моделирование временных рядов   \n",
              "\n",
              "                                fall_3  \\\n",
              "358  Анализ неструктурированных данных   \n",
              "359  Анализ неструктурированных данных   \n",
              "360  Высокопроизводительные вычисления   \n",
              "\n",
              "                                              spring_1  \\\n",
              "358  Проектирование и разработка высоконагруженных ...   \n",
              "359  Проектирование и разработка высоконагруженных ...   \n",
              "360                           Обучение с подкреплением   \n",
              "\n",
              "                                 spring_2  \\\n",
              "358  Методы сжатия и передачи медиаданных   \n",
              "359  Методы сжатия и передачи медиаданных   \n",
              "360                   Компьютерное зрение   \n",
              "\n",
              "                                 spring_3 is_first_time  percentile  17_group  \\\n",
              "358                      Численные методы            Да    0.652174     173.0   \n",
              "359                   Компьютерное зрение            Да    0.985507     172.0   \n",
              "360  Методы сжатия и передачи медиаданных           NaN    0.369565     176.0   \n",
              "\n",
              "                            blended  is_ml_student  \n",
              "358  Соревновательный анализ данных            NaN  \n",
              "359                          DevOps            NaN  \n",
              "360  Соревновательный анализ данных            NaN  "
            ],
            "text/html": [
              "\n",
              "  <div id=\"df-03d66ecc-51f6-4826-94dc-391595fb4053\" class=\"colab-df-container\">\n",
              "    <div>\n",
              "<style scoped>\n",
              "    .dataframe tbody tr th:only-of-type {\n",
              "        vertical-align: middle;\n",
              "    }\n",
              "\n",
              "    .dataframe tbody tr th {\n",
              "        vertical-align: top;\n",
              "    }\n",
              "\n",
              "    .dataframe thead th {\n",
              "        text-align: right;\n",
              "    }\n",
              "</style>\n",
              "<table border=\"1\" class=\"dataframe\">\n",
              "  <thead>\n",
              "    <tr style=\"text-align: right;\">\n",
              "      <th></th>\n",
              "      <th>timestamp</th>\n",
              "      <th>id</th>\n",
              "      <th>rating</th>\n",
              "      <th>18_group</th>\n",
              "      <th>is_mi</th>\n",
              "      <th>fall_1</th>\n",
              "      <th>fall_2</th>\n",
              "      <th>fall_3</th>\n",
              "      <th>spring_1</th>\n",
              "      <th>spring_2</th>\n",
              "      <th>spring_3</th>\n",
              "      <th>is_first_time</th>\n",
              "      <th>percentile</th>\n",
              "      <th>17_group</th>\n",
              "      <th>blended</th>\n",
              "      <th>is_ml_student</th>\n",
              "    </tr>\n",
              "  </thead>\n",
              "  <tbody>\n",
              "    <tr>\n",
              "      <th>358</th>\n",
              "      <td>2020-05-20 11:54:38.318</td>\n",
              "      <td>d7118b44c7e8fdbbaaca226d2da6fef1</td>\n",
              "      <td>1111</td>\n",
              "      <td>NaN</td>\n",
              "      <td>NaN</td>\n",
              "      <td>Сбор и обработка данных с помощью краудсорсинга</td>\n",
              "      <td>Statistical Learning Theory</td>\n",
              "      <td>Анализ неструктурированных данных</td>\n",
              "      <td>Проектирование и разработка высоконагруженных ...</td>\n",
              "      <td>Методы сжатия и передачи медиаданных</td>\n",
              "      <td>Численные методы</td>\n",
              "      <td>Да</td>\n",
              "      <td>0.652174</td>\n",
              "      <td>173.0</td>\n",
              "      <td>Соревновательный анализ данных</td>\n",
              "      <td>NaN</td>\n",
              "    </tr>\n",
              "    <tr>\n",
              "      <th>359</th>\n",
              "      <td>2020-05-23 21:16:40.916</td>\n",
              "      <td>79d14db48e4737af731960ae212d5134</td>\n",
              "      <td>966</td>\n",
              "      <td>NaN</td>\n",
              "      <td>NaN</td>\n",
              "      <td>Безопасность компьютерных систем</td>\n",
              "      <td>Принятие решений в условиях риска и неопределё...</td>\n",
              "      <td>Анализ неструктурированных данных</td>\n",
              "      <td>Проектирование и разработка высоконагруженных ...</td>\n",
              "      <td>Методы сжатия и передачи медиаданных</td>\n",
              "      <td>Компьютерное зрение</td>\n",
              "      <td>Да</td>\n",
              "      <td>0.985507</td>\n",
              "      <td>172.0</td>\n",
              "      <td>DevOps</td>\n",
              "      <td>NaN</td>\n",
              "    </tr>\n",
              "    <tr>\n",
              "      <th>360</th>\n",
              "      <td>2020-05-23 21:16:40.916</td>\n",
              "      <td>f2d210ace25a841e1e58036b257d5d47</td>\n",
              "      <td>1195</td>\n",
              "      <td>NaN</td>\n",
              "      <td>NaN</td>\n",
              "      <td>Анализ неструктурированных данных</td>\n",
              "      <td>Моделирование временных рядов</td>\n",
              "      <td>Высокопроизводительные вычисления</td>\n",
              "      <td>Обучение с подкреплением</td>\n",
              "      <td>Компьютерное зрение</td>\n",
              "      <td>Методы сжатия и передачи медиаданных</td>\n",
              "      <td>NaN</td>\n",
              "      <td>0.369565</td>\n",
              "      <td>176.0</td>\n",
              "      <td>Соревновательный анализ данных</td>\n",
              "      <td>NaN</td>\n",
              "    </tr>\n",
              "  </tbody>\n",
              "</table>\n",
              "</div>\n",
              "    <div class=\"colab-df-buttons\">\n",
              "\n",
              "  <div class=\"colab-df-container\">\n",
              "    <button class=\"colab-df-convert\" onclick=\"convertToInteractive('df-03d66ecc-51f6-4826-94dc-391595fb4053')\"\n",
              "            title=\"Convert this dataframe to an interactive table.\"\n",
              "            style=\"display:none;\">\n",
              "\n",
              "  <svg xmlns=\"http://www.w3.org/2000/svg\" height=\"24px\" viewBox=\"0 -960 960 960\">\n",
              "    <path d=\"M120-120v-720h720v720H120Zm60-500h600v-160H180v160Zm220 220h160v-160H400v160Zm0 220h160v-160H400v160ZM180-400h160v-160H180v160Zm440 0h160v-160H620v160ZM180-180h160v-160H180v160Zm440 0h160v-160H620v160Z\"/>\n",
              "  </svg>\n",
              "    </button>\n",
              "\n",
              "  <style>\n",
              "    .colab-df-container {\n",
              "      display:flex;\n",
              "      gap: 12px;\n",
              "    }\n",
              "\n",
              "    .colab-df-convert {\n",
              "      background-color: #E8F0FE;\n",
              "      border: none;\n",
              "      border-radius: 50%;\n",
              "      cursor: pointer;\n",
              "      display: none;\n",
              "      fill: #1967D2;\n",
              "      height: 32px;\n",
              "      padding: 0 0 0 0;\n",
              "      width: 32px;\n",
              "    }\n",
              "\n",
              "    .colab-df-convert:hover {\n",
              "      background-color: #E2EBFA;\n",
              "      box-shadow: 0px 1px 2px rgba(60, 64, 67, 0.3), 0px 1px 3px 1px rgba(60, 64, 67, 0.15);\n",
              "      fill: #174EA6;\n",
              "    }\n",
              "\n",
              "    .colab-df-buttons div {\n",
              "      margin-bottom: 4px;\n",
              "    }\n",
              "\n",
              "    [theme=dark] .colab-df-convert {\n",
              "      background-color: #3B4455;\n",
              "      fill: #D2E3FC;\n",
              "    }\n",
              "\n",
              "    [theme=dark] .colab-df-convert:hover {\n",
              "      background-color: #434B5C;\n",
              "      box-shadow: 0px 1px 3px 1px rgba(0, 0, 0, 0.15);\n",
              "      filter: drop-shadow(0px 1px 2px rgba(0, 0, 0, 0.3));\n",
              "      fill: #FFFFFF;\n",
              "    }\n",
              "  </style>\n",
              "\n",
              "    <script>\n",
              "      const buttonEl =\n",
              "        document.querySelector('#df-03d66ecc-51f6-4826-94dc-391595fb4053 button.colab-df-convert');\n",
              "      buttonEl.style.display =\n",
              "        google.colab.kernel.accessAllowed ? 'block' : 'none';\n",
              "\n",
              "      async function convertToInteractive(key) {\n",
              "        const element = document.querySelector('#df-03d66ecc-51f6-4826-94dc-391595fb4053');\n",
              "        const dataTable =\n",
              "          await google.colab.kernel.invokeFunction('convertToInteractive',\n",
              "                                                    [key], {});\n",
              "        if (!dataTable) return;\n",
              "\n",
              "        const docLinkHtml = 'Like what you see? Visit the ' +\n",
              "          '<a target=\"_blank\" href=https://colab.research.google.com/notebooks/data_table.ipynb>data table notebook</a>'\n",
              "          + ' to learn more about interactive tables.';\n",
              "        element.innerHTML = '';\n",
              "        dataTable['output_type'] = 'display_data';\n",
              "        await google.colab.output.renderOutput(dataTable, element);\n",
              "        const docLink = document.createElement('div');\n",
              "        docLink.innerHTML = docLinkHtml;\n",
              "        element.appendChild(docLink);\n",
              "      }\n",
              "    </script>\n",
              "  </div>\n",
              "\n",
              "\n",
              "<div id=\"df-ba96063c-53ba-4530-9ae0-fd11452bb959\">\n",
              "  <button class=\"colab-df-quickchart\" onclick=\"quickchart('df-ba96063c-53ba-4530-9ae0-fd11452bb959')\"\n",
              "            title=\"Suggest charts\"\n",
              "            style=\"display:none;\">\n",
              "\n",
              "<svg xmlns=\"http://www.w3.org/2000/svg\" height=\"24px\"viewBox=\"0 0 24 24\"\n",
              "     width=\"24px\">\n",
              "    <g>\n",
              "        <path d=\"M19 3H5c-1.1 0-2 .9-2 2v14c0 1.1.9 2 2 2h14c1.1 0 2-.9 2-2V5c0-1.1-.9-2-2-2zM9 17H7v-7h2v7zm4 0h-2V7h2v10zm4 0h-2v-4h2v4z\"/>\n",
              "    </g>\n",
              "</svg>\n",
              "  </button>\n",
              "\n",
              "<style>\n",
              "  .colab-df-quickchart {\n",
              "      --bg-color: #E8F0FE;\n",
              "      --fill-color: #1967D2;\n",
              "      --hover-bg-color: #E2EBFA;\n",
              "      --hover-fill-color: #174EA6;\n",
              "      --disabled-fill-color: #AAA;\n",
              "      --disabled-bg-color: #DDD;\n",
              "  }\n",
              "\n",
              "  [theme=dark] .colab-df-quickchart {\n",
              "      --bg-color: #3B4455;\n",
              "      --fill-color: #D2E3FC;\n",
              "      --hover-bg-color: #434B5C;\n",
              "      --hover-fill-color: #FFFFFF;\n",
              "      --disabled-bg-color: #3B4455;\n",
              "      --disabled-fill-color: #666;\n",
              "  }\n",
              "\n",
              "  .colab-df-quickchart {\n",
              "    background-color: var(--bg-color);\n",
              "    border: none;\n",
              "    border-radius: 50%;\n",
              "    cursor: pointer;\n",
              "    display: none;\n",
              "    fill: var(--fill-color);\n",
              "    height: 32px;\n",
              "    padding: 0;\n",
              "    width: 32px;\n",
              "  }\n",
              "\n",
              "  .colab-df-quickchart:hover {\n",
              "    background-color: var(--hover-bg-color);\n",
              "    box-shadow: 0 1px 2px rgba(60, 64, 67, 0.3), 0 1px 3px 1px rgba(60, 64, 67, 0.15);\n",
              "    fill: var(--button-hover-fill-color);\n",
              "  }\n",
              "\n",
              "  .colab-df-quickchart-complete:disabled,\n",
              "  .colab-df-quickchart-complete:disabled:hover {\n",
              "    background-color: var(--disabled-bg-color);\n",
              "    fill: var(--disabled-fill-color);\n",
              "    box-shadow: none;\n",
              "  }\n",
              "\n",
              "  .colab-df-spinner {\n",
              "    border: 2px solid var(--fill-color);\n",
              "    border-color: transparent;\n",
              "    border-bottom-color: var(--fill-color);\n",
              "    animation:\n",
              "      spin 1s steps(1) infinite;\n",
              "  }\n",
              "\n",
              "  @keyframes spin {\n",
              "    0% {\n",
              "      border-color: transparent;\n",
              "      border-bottom-color: var(--fill-color);\n",
              "      border-left-color: var(--fill-color);\n",
              "    }\n",
              "    20% {\n",
              "      border-color: transparent;\n",
              "      border-left-color: var(--fill-color);\n",
              "      border-top-color: var(--fill-color);\n",
              "    }\n",
              "    30% {\n",
              "      border-color: transparent;\n",
              "      border-left-color: var(--fill-color);\n",
              "      border-top-color: var(--fill-color);\n",
              "      border-right-color: var(--fill-color);\n",
              "    }\n",
              "    40% {\n",
              "      border-color: transparent;\n",
              "      border-right-color: var(--fill-color);\n",
              "      border-top-color: var(--fill-color);\n",
              "    }\n",
              "    60% {\n",
              "      border-color: transparent;\n",
              "      border-right-color: var(--fill-color);\n",
              "    }\n",
              "    80% {\n",
              "      border-color: transparent;\n",
              "      border-right-color: var(--fill-color);\n",
              "      border-bottom-color: var(--fill-color);\n",
              "    }\n",
              "    90% {\n",
              "      border-color: transparent;\n",
              "      border-bottom-color: var(--fill-color);\n",
              "    }\n",
              "  }\n",
              "</style>\n",
              "\n",
              "  <script>\n",
              "    async function quickchart(key) {\n",
              "      const quickchartButtonEl =\n",
              "        document.querySelector('#' + key + ' button');\n",
              "      quickchartButtonEl.disabled = true;  // To prevent multiple clicks.\n",
              "      quickchartButtonEl.classList.add('colab-df-spinner');\n",
              "      try {\n",
              "        const charts = await google.colab.kernel.invokeFunction(\n",
              "            'suggestCharts', [key], {});\n",
              "      } catch (error) {\n",
              "        console.error('Error during call to suggestCharts:', error);\n",
              "      }\n",
              "      quickchartButtonEl.classList.remove('colab-df-spinner');\n",
              "      quickchartButtonEl.classList.add('colab-df-quickchart-complete');\n",
              "    }\n",
              "    (() => {\n",
              "      let quickchartButtonEl =\n",
              "        document.querySelector('#df-ba96063c-53ba-4530-9ae0-fd11452bb959 button');\n",
              "      quickchartButtonEl.style.display =\n",
              "        google.colab.kernel.accessAllowed ? 'block' : 'none';\n",
              "    })();\n",
              "  </script>\n",
              "</div>\n",
              "    </div>\n",
              "  </div>\n"
            ],
            "application/vnd.google.colaboratory.intrinsic+json": {
              "type": "dataframe",
              "summary": "{\n  \"name\": \"df\",\n  \"rows\": 3,\n  \"fields\": [\n    {\n      \"column\": \"timestamp\",\n      \"properties\": {\n        \"dtype\": \"date\",\n        \"min\": \"2020-05-20 11:54:38.318000\",\n        \"max\": \"2020-05-23 21:16:40.916000\",\n        \"num_unique_values\": 2,\n        \"samples\": [\n          \"2020-05-23 21:16:40.916000\",\n          \"2020-05-20 11:54:38.318000\"\n        ],\n        \"semantic_type\": \"\",\n        \"description\": \"\"\n      }\n    },\n    {\n      \"column\": \"id\",\n      \"properties\": {\n        \"dtype\": \"string\",\n        \"num_unique_values\": 3,\n        \"samples\": [\n          \"d7118b44c7e8fdbbaaca226d2da6fef1\",\n          \"79d14db48e4737af731960ae212d5134\"\n        ],\n        \"semantic_type\": \"\",\n        \"description\": \"\"\n      }\n    },\n    {\n      \"column\": \"rating\",\n      \"properties\": {\n        \"dtype\": \"number\",\n        \"std\": 115,\n        \"min\": 966,\n        \"max\": 1195,\n        \"num_unique_values\": 3,\n        \"samples\": [\n          1111,\n          966\n        ],\n        \"semantic_type\": \"\",\n        \"description\": \"\"\n      }\n    },\n    {\n      \"column\": \"18_group\",\n      \"properties\": {\n        \"dtype\": \"number\",\n        \"std\": null,\n        \"min\": null,\n        \"max\": null,\n        \"num_unique_values\": 0,\n        \"samples\": [],\n        \"semantic_type\": \"\",\n        \"description\": \"\"\n      }\n    },\n    {\n      \"column\": \"is_mi\",\n      \"properties\": {\n        \"dtype\": \"number\",\n        \"std\": null,\n        \"min\": null,\n        \"max\": null,\n        \"num_unique_values\": 0,\n        \"samples\": [],\n        \"semantic_type\": \"\",\n        \"description\": \"\"\n      }\n    },\n    {\n      \"column\": \"fall_1\",\n      \"properties\": {\n        \"dtype\": \"string\",\n        \"num_unique_values\": 3,\n        \"samples\": [],\n        \"semantic_type\": \"\",\n        \"description\": \"\"\n      }\n    },\n    {\n      \"column\": \"fall_2\",\n      \"properties\": {\n        \"dtype\": \"string\",\n        \"num_unique_values\": 3,\n        \"samples\": [],\n        \"semantic_type\": \"\",\n        \"description\": \"\"\n      }\n    },\n    {\n      \"column\": \"fall_3\",\n      \"properties\": {\n        \"dtype\": \"string\",\n        \"num_unique_values\": 2,\n        \"samples\": [],\n        \"semantic_type\": \"\",\n        \"description\": \"\"\n      }\n    },\n    {\n      \"column\": \"spring_1\",\n      \"properties\": {\n        \"dtype\": \"string\",\n        \"num_unique_values\": 2,\n        \"samples\": [],\n        \"semantic_type\": \"\",\n        \"description\": \"\"\n      }\n    },\n    {\n      \"column\": \"spring_2\",\n      \"properties\": {\n        \"dtype\": \"string\",\n        \"num_unique_values\": 2,\n        \"samples\": [],\n        \"semantic_type\": \"\",\n        \"description\": \"\"\n      }\n    },\n    {\n      \"column\": \"spring_3\",\n      \"properties\": {\n        \"dtype\": \"string\",\n        \"num_unique_values\": 3,\n        \"samples\": [],\n        \"semantic_type\": \"\",\n        \"description\": \"\"\n      }\n    },\n    {\n      \"column\": \"is_first_time\",\n      \"properties\": {\n        \"dtype\": \"category\",\n        \"num_unique_values\": 1,\n        \"samples\": [],\n        \"semantic_type\": \"\",\n        \"description\": \"\"\n      }\n    },\n    {\n      \"column\": \"percentile\",\n      \"properties\": {\n        \"dtype\": \"number\",\n        \"std\": 0.30831892823290347,\n        \"min\": 0.3695652173913043,\n        \"max\": 0.9855072463768116,\n        \"num_unique_values\": 3,\n        \"samples\": [],\n        \"semantic_type\": \"\",\n        \"description\": \"\"\n      }\n    },\n    {\n      \"column\": \"17_group\",\n      \"properties\": {\n        \"dtype\": \"number\",\n        \"std\": 2.081665999466133,\n        \"min\": 172.0,\n        \"max\": 176.0,\n        \"num_unique_values\": 3,\n        \"samples\": [],\n        \"semantic_type\": \"\",\n        \"description\": \"\"\n      }\n    },\n    {\n      \"column\": \"blended\",\n      \"properties\": {\n        \"dtype\": \"string\",\n        \"num_unique_values\": 2,\n        \"samples\": [],\n        \"semantic_type\": \"\",\n        \"description\": \"\"\n      }\n    },\n    {\n      \"column\": \"is_ml_student\",\n      \"properties\": {\n        \"dtype\": \"number\",\n        \"std\": null,\n        \"min\": null,\n        \"max\": null,\n        \"num_unique_values\": 0,\n        \"samples\": [],\n        \"semantic_type\": \"\",\n        \"description\": \"\"\n      }\n    }\n  ]\n}"
            }
          },
          "metadata": {},
          "execution_count": 1854
        }
      ],
      "source": [
        "df = pd.read_excel('end_seminar.xlsx')\n",
        "df.iloc[-3:]"
      ]
    },
    {
      "cell_type": "markdown",
      "source": [
        "### Ответьте на вопросы:\n",
        "1. Сколько было уникальных пользователей из групп 18-го года набора, а сколько из групп 17-го года?"
      ],
      "metadata": {
        "id": "P6dOzc7e85Bs"
      }
    },
    {
      "cell_type": "code",
      "source": [
        "print(df[df[\"18_group\"].notnull()].id.nunique())\n",
        "print(df[df[\"17_group\"].notnull()].id.nunique())"
      ],
      "metadata": {
        "id": "ZLBcHvHf890B",
        "colab": {
          "base_uri": "https://localhost:8080/"
        },
        "outputId": "d80f55a3-50c2-4a2e-feb3-4f30d8681b6b"
      },
      "execution_count": 1855,
      "outputs": [
        {
          "output_type": "stream",
          "name": "stdout",
          "text": [
            "213\n",
            "134\n"
          ]
        }
      ]
    },
    {
      "cell_type": "markdown",
      "source": [
        "2. Есть ли уникальные студенты с равными перцентилями?"
      ],
      "metadata": {
        "id": "dt89P1sG88NN"
      }
    },
    {
      "cell_type": "code",
      "source": [
        "df[df.percentile.duplicated(keep=False)].drop_duplicates(subset='id', keep=False)"
      ],
      "metadata": {
        "id": "NA8Yy9D98-Nv",
        "colab": {
          "base_uri": "https://localhost:8080/",
          "height": 219
        },
        "outputId": "b7ddb246-5ff8-4253-fe9c-97ba0b103c43"
      },
      "execution_count": 1856,
      "outputs": [
        {
          "output_type": "execute_result",
          "data": {
            "text/plain": [
              "                  timestamp                                id  rating  \\\n",
              "80  2020-05-18 17:09:23.589  3e106aaef8b24dbb01319c73e14c2936     784   \n",
              "231 2020-05-14 21:52:43.844  3a7326c9e355a67d3805824ca34c4bc5    1457   \n",
              "\n",
              "     18_group  is_mi                            fall_1  \\\n",
              "80      182.0    NaN  Безопасность компьютерных систем   \n",
              "231       NaN    NaN       Statistical Learning Theory   \n",
              "\n",
              "                                fall_2                       fall_3  \\\n",
              "80         Statistical Learning Theory         Матричные вычисления   \n",
              "231  Высокопроизводительные вычисления  Statistical Learning Theory   \n",
              "\n",
              "                   spring_1                                     spring_2  \\\n",
              "80   Дискретная оптимизация  Промышленное программирование на языке Java   \n",
              "231   Символьные вычисления                             Численные методы   \n",
              "\n",
              "                                       spring_3 is_first_time  percentile  \\\n",
              "80   Дополнительные главы прикладной статистики            Да         0.0   \n",
              "231                       Символьные вычисления            Да         0.0   \n",
              "\n",
              "     17_group                                blended  is_ml_student  \n",
              "80        NaN                                    NaN            1.0  \n",
              "231     173.0  Введение в дифференциальную геометрию            NaN  "
            ],
            "text/html": [
              "\n",
              "  <div id=\"df-6ce33bd2-c198-43cb-adfd-47720229cd8a\" class=\"colab-df-container\">\n",
              "    <div>\n",
              "<style scoped>\n",
              "    .dataframe tbody tr th:only-of-type {\n",
              "        vertical-align: middle;\n",
              "    }\n",
              "\n",
              "    .dataframe tbody tr th {\n",
              "        vertical-align: top;\n",
              "    }\n",
              "\n",
              "    .dataframe thead th {\n",
              "        text-align: right;\n",
              "    }\n",
              "</style>\n",
              "<table border=\"1\" class=\"dataframe\">\n",
              "  <thead>\n",
              "    <tr style=\"text-align: right;\">\n",
              "      <th></th>\n",
              "      <th>timestamp</th>\n",
              "      <th>id</th>\n",
              "      <th>rating</th>\n",
              "      <th>18_group</th>\n",
              "      <th>is_mi</th>\n",
              "      <th>fall_1</th>\n",
              "      <th>fall_2</th>\n",
              "      <th>fall_3</th>\n",
              "      <th>spring_1</th>\n",
              "      <th>spring_2</th>\n",
              "      <th>spring_3</th>\n",
              "      <th>is_first_time</th>\n",
              "      <th>percentile</th>\n",
              "      <th>17_group</th>\n",
              "      <th>blended</th>\n",
              "      <th>is_ml_student</th>\n",
              "    </tr>\n",
              "  </thead>\n",
              "  <tbody>\n",
              "    <tr>\n",
              "      <th>80</th>\n",
              "      <td>2020-05-18 17:09:23.589</td>\n",
              "      <td>3e106aaef8b24dbb01319c73e14c2936</td>\n",
              "      <td>784</td>\n",
              "      <td>182.0</td>\n",
              "      <td>NaN</td>\n",
              "      <td>Безопасность компьютерных систем</td>\n",
              "      <td>Statistical Learning Theory</td>\n",
              "      <td>Матричные вычисления</td>\n",
              "      <td>Дискретная оптимизация</td>\n",
              "      <td>Промышленное программирование на языке Java</td>\n",
              "      <td>Дополнительные главы прикладной статистики</td>\n",
              "      <td>Да</td>\n",
              "      <td>0.0</td>\n",
              "      <td>NaN</td>\n",
              "      <td>NaN</td>\n",
              "      <td>1.0</td>\n",
              "    </tr>\n",
              "    <tr>\n",
              "      <th>231</th>\n",
              "      <td>2020-05-14 21:52:43.844</td>\n",
              "      <td>3a7326c9e355a67d3805824ca34c4bc5</td>\n",
              "      <td>1457</td>\n",
              "      <td>NaN</td>\n",
              "      <td>NaN</td>\n",
              "      <td>Statistical Learning Theory</td>\n",
              "      <td>Высокопроизводительные вычисления</td>\n",
              "      <td>Statistical Learning Theory</td>\n",
              "      <td>Символьные вычисления</td>\n",
              "      <td>Численные методы</td>\n",
              "      <td>Символьные вычисления</td>\n",
              "      <td>Да</td>\n",
              "      <td>0.0</td>\n",
              "      <td>173.0</td>\n",
              "      <td>Введение в дифференциальную геометрию</td>\n",
              "      <td>NaN</td>\n",
              "    </tr>\n",
              "  </tbody>\n",
              "</table>\n",
              "</div>\n",
              "    <div class=\"colab-df-buttons\">\n",
              "\n",
              "  <div class=\"colab-df-container\">\n",
              "    <button class=\"colab-df-convert\" onclick=\"convertToInteractive('df-6ce33bd2-c198-43cb-adfd-47720229cd8a')\"\n",
              "            title=\"Convert this dataframe to an interactive table.\"\n",
              "            style=\"display:none;\">\n",
              "\n",
              "  <svg xmlns=\"http://www.w3.org/2000/svg\" height=\"24px\" viewBox=\"0 -960 960 960\">\n",
              "    <path d=\"M120-120v-720h720v720H120Zm60-500h600v-160H180v160Zm220 220h160v-160H400v160Zm0 220h160v-160H400v160ZM180-400h160v-160H180v160Zm440 0h160v-160H620v160ZM180-180h160v-160H180v160Zm440 0h160v-160H620v160Z\"/>\n",
              "  </svg>\n",
              "    </button>\n",
              "\n",
              "  <style>\n",
              "    .colab-df-container {\n",
              "      display:flex;\n",
              "      gap: 12px;\n",
              "    }\n",
              "\n",
              "    .colab-df-convert {\n",
              "      background-color: #E8F0FE;\n",
              "      border: none;\n",
              "      border-radius: 50%;\n",
              "      cursor: pointer;\n",
              "      display: none;\n",
              "      fill: #1967D2;\n",
              "      height: 32px;\n",
              "      padding: 0 0 0 0;\n",
              "      width: 32px;\n",
              "    }\n",
              "\n",
              "    .colab-df-convert:hover {\n",
              "      background-color: #E2EBFA;\n",
              "      box-shadow: 0px 1px 2px rgba(60, 64, 67, 0.3), 0px 1px 3px 1px rgba(60, 64, 67, 0.15);\n",
              "      fill: #174EA6;\n",
              "    }\n",
              "\n",
              "    .colab-df-buttons div {\n",
              "      margin-bottom: 4px;\n",
              "    }\n",
              "\n",
              "    [theme=dark] .colab-df-convert {\n",
              "      background-color: #3B4455;\n",
              "      fill: #D2E3FC;\n",
              "    }\n",
              "\n",
              "    [theme=dark] .colab-df-convert:hover {\n",
              "      background-color: #434B5C;\n",
              "      box-shadow: 0px 1px 3px 1px rgba(0, 0, 0, 0.15);\n",
              "      filter: drop-shadow(0px 1px 2px rgba(0, 0, 0, 0.3));\n",
              "      fill: #FFFFFF;\n",
              "    }\n",
              "  </style>\n",
              "\n",
              "    <script>\n",
              "      const buttonEl =\n",
              "        document.querySelector('#df-6ce33bd2-c198-43cb-adfd-47720229cd8a button.colab-df-convert');\n",
              "      buttonEl.style.display =\n",
              "        google.colab.kernel.accessAllowed ? 'block' : 'none';\n",
              "\n",
              "      async function convertToInteractive(key) {\n",
              "        const element = document.querySelector('#df-6ce33bd2-c198-43cb-adfd-47720229cd8a');\n",
              "        const dataTable =\n",
              "          await google.colab.kernel.invokeFunction('convertToInteractive',\n",
              "                                                    [key], {});\n",
              "        if (!dataTable) return;\n",
              "\n",
              "        const docLinkHtml = 'Like what you see? Visit the ' +\n",
              "          '<a target=\"_blank\" href=https://colab.research.google.com/notebooks/data_table.ipynb>data table notebook</a>'\n",
              "          + ' to learn more about interactive tables.';\n",
              "        element.innerHTML = '';\n",
              "        dataTable['output_type'] = 'display_data';\n",
              "        await google.colab.output.renderOutput(dataTable, element);\n",
              "        const docLink = document.createElement('div');\n",
              "        docLink.innerHTML = docLinkHtml;\n",
              "        element.appendChild(docLink);\n",
              "      }\n",
              "    </script>\n",
              "  </div>\n",
              "\n",
              "\n",
              "<div id=\"df-97963639-e3b8-45bb-9999-ffec2a73b5ca\">\n",
              "  <button class=\"colab-df-quickchart\" onclick=\"quickchart('df-97963639-e3b8-45bb-9999-ffec2a73b5ca')\"\n",
              "            title=\"Suggest charts\"\n",
              "            style=\"display:none;\">\n",
              "\n",
              "<svg xmlns=\"http://www.w3.org/2000/svg\" height=\"24px\"viewBox=\"0 0 24 24\"\n",
              "     width=\"24px\">\n",
              "    <g>\n",
              "        <path d=\"M19 3H5c-1.1 0-2 .9-2 2v14c0 1.1.9 2 2 2h14c1.1 0 2-.9 2-2V5c0-1.1-.9-2-2-2zM9 17H7v-7h2v7zm4 0h-2V7h2v10zm4 0h-2v-4h2v4z\"/>\n",
              "    </g>\n",
              "</svg>\n",
              "  </button>\n",
              "\n",
              "<style>\n",
              "  .colab-df-quickchart {\n",
              "      --bg-color: #E8F0FE;\n",
              "      --fill-color: #1967D2;\n",
              "      --hover-bg-color: #E2EBFA;\n",
              "      --hover-fill-color: #174EA6;\n",
              "      --disabled-fill-color: #AAA;\n",
              "      --disabled-bg-color: #DDD;\n",
              "  }\n",
              "\n",
              "  [theme=dark] .colab-df-quickchart {\n",
              "      --bg-color: #3B4455;\n",
              "      --fill-color: #D2E3FC;\n",
              "      --hover-bg-color: #434B5C;\n",
              "      --hover-fill-color: #FFFFFF;\n",
              "      --disabled-bg-color: #3B4455;\n",
              "      --disabled-fill-color: #666;\n",
              "  }\n",
              "\n",
              "  .colab-df-quickchart {\n",
              "    background-color: var(--bg-color);\n",
              "    border: none;\n",
              "    border-radius: 50%;\n",
              "    cursor: pointer;\n",
              "    display: none;\n",
              "    fill: var(--fill-color);\n",
              "    height: 32px;\n",
              "    padding: 0;\n",
              "    width: 32px;\n",
              "  }\n",
              "\n",
              "  .colab-df-quickchart:hover {\n",
              "    background-color: var(--hover-bg-color);\n",
              "    box-shadow: 0 1px 2px rgba(60, 64, 67, 0.3), 0 1px 3px 1px rgba(60, 64, 67, 0.15);\n",
              "    fill: var(--button-hover-fill-color);\n",
              "  }\n",
              "\n",
              "  .colab-df-quickchart-complete:disabled,\n",
              "  .colab-df-quickchart-complete:disabled:hover {\n",
              "    background-color: var(--disabled-bg-color);\n",
              "    fill: var(--disabled-fill-color);\n",
              "    box-shadow: none;\n",
              "  }\n",
              "\n",
              "  .colab-df-spinner {\n",
              "    border: 2px solid var(--fill-color);\n",
              "    border-color: transparent;\n",
              "    border-bottom-color: var(--fill-color);\n",
              "    animation:\n",
              "      spin 1s steps(1) infinite;\n",
              "  }\n",
              "\n",
              "  @keyframes spin {\n",
              "    0% {\n",
              "      border-color: transparent;\n",
              "      border-bottom-color: var(--fill-color);\n",
              "      border-left-color: var(--fill-color);\n",
              "    }\n",
              "    20% {\n",
              "      border-color: transparent;\n",
              "      border-left-color: var(--fill-color);\n",
              "      border-top-color: var(--fill-color);\n",
              "    }\n",
              "    30% {\n",
              "      border-color: transparent;\n",
              "      border-left-color: var(--fill-color);\n",
              "      border-top-color: var(--fill-color);\n",
              "      border-right-color: var(--fill-color);\n",
              "    }\n",
              "    40% {\n",
              "      border-color: transparent;\n",
              "      border-right-color: var(--fill-color);\n",
              "      border-top-color: var(--fill-color);\n",
              "    }\n",
              "    60% {\n",
              "      border-color: transparent;\n",
              "      border-right-color: var(--fill-color);\n",
              "    }\n",
              "    80% {\n",
              "      border-color: transparent;\n",
              "      border-right-color: var(--fill-color);\n",
              "      border-bottom-color: var(--fill-color);\n",
              "    }\n",
              "    90% {\n",
              "      border-color: transparent;\n",
              "      border-bottom-color: var(--fill-color);\n",
              "    }\n",
              "  }\n",
              "</style>\n",
              "\n",
              "  <script>\n",
              "    async function quickchart(key) {\n",
              "      const quickchartButtonEl =\n",
              "        document.querySelector('#' + key + ' button');\n",
              "      quickchartButtonEl.disabled = true;  // To prevent multiple clicks.\n",
              "      quickchartButtonEl.classList.add('colab-df-spinner');\n",
              "      try {\n",
              "        const charts = await google.colab.kernel.invokeFunction(\n",
              "            'suggestCharts', [key], {});\n",
              "      } catch (error) {\n",
              "        console.error('Error during call to suggestCharts:', error);\n",
              "      }\n",
              "      quickchartButtonEl.classList.remove('colab-df-spinner');\n",
              "      quickchartButtonEl.classList.add('colab-df-quickchart-complete');\n",
              "    }\n",
              "    (() => {\n",
              "      let quickchartButtonEl =\n",
              "        document.querySelector('#df-97963639-e3b8-45bb-9999-ffec2a73b5ca button');\n",
              "      quickchartButtonEl.style.display =\n",
              "        google.colab.kernel.accessAllowed ? 'block' : 'none';\n",
              "    })();\n",
              "  </script>\n",
              "</div>\n",
              "    </div>\n",
              "  </div>\n"
            ],
            "application/vnd.google.colaboratory.intrinsic+json": {
              "type": "dataframe",
              "summary": "{\n  \"name\": \"df[df\",\n  \"rows\": 2,\n  \"fields\": [\n    {\n      \"column\": \"timestamp\",\n      \"properties\": {\n        \"dtype\": \"date\",\n        \"min\": \"2020-05-14 21:52:43.844000\",\n        \"max\": \"2020-05-18 17:09:23.589000\",\n        \"num_unique_values\": 2,\n        \"samples\": [\n          \"2020-05-14 21:52:43.844000\",\n          \"2020-05-18 17:09:23.589000\"\n        ],\n        \"semantic_type\": \"\",\n        \"description\": \"\"\n      }\n    },\n    {\n      \"column\": \"id\",\n      \"properties\": {\n        \"dtype\": \"string\",\n        \"num_unique_values\": 2,\n        \"samples\": [\n          \"3a7326c9e355a67d3805824ca34c4bc5\",\n          \"3e106aaef8b24dbb01319c73e14c2936\"\n        ],\n        \"semantic_type\": \"\",\n        \"description\": \"\"\n      }\n    },\n    {\n      \"column\": \"rating\",\n      \"properties\": {\n        \"dtype\": \"number\",\n        \"std\": 475,\n        \"min\": 784,\n        \"max\": 1457,\n        \"num_unique_values\": 2,\n        \"samples\": [\n          1457,\n          784\n        ],\n        \"semantic_type\": \"\",\n        \"description\": \"\"\n      }\n    },\n    {\n      \"column\": \"18_group\",\n      \"properties\": {\n        \"dtype\": \"number\",\n        \"std\": null,\n        \"min\": 182.0,\n        \"max\": 182.0,\n        \"num_unique_values\": 1,\n        \"samples\": [\n          182.0\n        ],\n        \"semantic_type\": \"\",\n        \"description\": \"\"\n      }\n    },\n    {\n      \"column\": \"is_mi\",\n      \"properties\": {\n        \"dtype\": \"number\",\n        \"std\": null,\n        \"min\": null,\n        \"max\": null,\n        \"num_unique_values\": 0,\n        \"samples\": [],\n        \"semantic_type\": \"\",\n        \"description\": \"\"\n      }\n    },\n    {\n      \"column\": \"fall_1\",\n      \"properties\": {\n        \"dtype\": \"string\",\n        \"num_unique_values\": 2,\n        \"samples\": [],\n        \"semantic_type\": \"\",\n        \"description\": \"\"\n      }\n    },\n    {\n      \"column\": \"fall_2\",\n      \"properties\": {\n        \"dtype\": \"string\",\n        \"num_unique_values\": 2,\n        \"samples\": [],\n        \"semantic_type\": \"\",\n        \"description\": \"\"\n      }\n    },\n    {\n      \"column\": \"fall_3\",\n      \"properties\": {\n        \"dtype\": \"string\",\n        \"num_unique_values\": 2,\n        \"samples\": [],\n        \"semantic_type\": \"\",\n        \"description\": \"\"\n      }\n    },\n    {\n      \"column\": \"spring_1\",\n      \"properties\": {\n        \"dtype\": \"string\",\n        \"num_unique_values\": 2,\n        \"samples\": [],\n        \"semantic_type\": \"\",\n        \"description\": \"\"\n      }\n    },\n    {\n      \"column\": \"spring_2\",\n      \"properties\": {\n        \"dtype\": \"string\",\n        \"num_unique_values\": 2,\n        \"samples\": [],\n        \"semantic_type\": \"\",\n        \"description\": \"\"\n      }\n    },\n    {\n      \"column\": \"spring_3\",\n      \"properties\": {\n        \"dtype\": \"string\",\n        \"num_unique_values\": 2,\n        \"samples\": [],\n        \"semantic_type\": \"\",\n        \"description\": \"\"\n      }\n    },\n    {\n      \"column\": \"is_first_time\",\n      \"properties\": {\n        \"dtype\": \"string\",\n        \"num_unique_values\": 1,\n        \"samples\": [],\n        \"semantic_type\": \"\",\n        \"description\": \"\"\n      }\n    },\n    {\n      \"column\": \"percentile\",\n      \"properties\": {\n        \"dtype\": \"number\",\n        \"std\": 0.0,\n        \"min\": 0.0,\n        \"max\": 0.0,\n        \"num_unique_values\": 1,\n        \"samples\": [],\n        \"semantic_type\": \"\",\n        \"description\": \"\"\n      }\n    },\n    {\n      \"column\": \"17_group\",\n      \"properties\": {\n        \"dtype\": \"number\",\n        \"std\": null,\n        \"min\": 173.0,\n        \"max\": 173.0,\n        \"num_unique_values\": 1,\n        \"samples\": [],\n        \"semantic_type\": \"\",\n        \"description\": \"\"\n      }\n    },\n    {\n      \"column\": \"blended\",\n      \"properties\": {\n        \"dtype\": \"string\",\n        \"num_unique_values\": 1,\n        \"samples\": [],\n        \"semantic_type\": \"\",\n        \"description\": \"\"\n      }\n    },\n    {\n      \"column\": \"is_ml_student\",\n      \"properties\": {\n        \"dtype\": \"number\",\n        \"std\": null,\n        \"min\": 1.0,\n        \"max\": 1.0,\n        \"num_unique_values\": 1,\n        \"samples\": [],\n        \"semantic_type\": \"\",\n        \"description\": \"\"\n      }\n    }\n  ]\n}"
            }
          },
          "metadata": {},
          "execution_count": 1856
        }
      ]
    },
    {
      "cell_type": "markdown",
      "metadata": {
        "id": "jPiMwyqHhLuy"
      },
      "source": [
        "#### 2. [0.5 балла] Есть ли в данных пропуски? В каких колонках? Сколько их в каждой из этих колонок?"
      ]
    },
    {
      "cell_type": "code",
      "execution_count": 1857,
      "metadata": {
        "id": "edY1RrSOhLuy",
        "colab": {
          "base_uri": "https://localhost:8080/",
          "height": 586
        },
        "outputId": "e3739ea0-ec21-4cf0-980a-f077fe9d8622"
      },
      "outputs": [
        {
          "output_type": "execute_result",
          "data": {
            "text/plain": [
              "timestamp          0\n",
              "id                 0\n",
              "rating             0\n",
              "18_group         138\n",
              "is_mi            343\n",
              "fall_1             0\n",
              "fall_2             0\n",
              "fall_3             0\n",
              "spring_1           0\n",
              "spring_2           0\n",
              "spring_3           0\n",
              "is_first_time      2\n",
              "percentile         0\n",
              "17_group         223\n",
              "blended          223\n",
              "is_ml_student    304\n",
              "dtype: int64"
            ],
            "text/html": [
              "<div>\n",
              "<style scoped>\n",
              "    .dataframe tbody tr th:only-of-type {\n",
              "        vertical-align: middle;\n",
              "    }\n",
              "\n",
              "    .dataframe tbody tr th {\n",
              "        vertical-align: top;\n",
              "    }\n",
              "\n",
              "    .dataframe thead th {\n",
              "        text-align: right;\n",
              "    }\n",
              "</style>\n",
              "<table border=\"1\" class=\"dataframe\">\n",
              "  <thead>\n",
              "    <tr style=\"text-align: right;\">\n",
              "      <th></th>\n",
              "      <th>0</th>\n",
              "    </tr>\n",
              "  </thead>\n",
              "  <tbody>\n",
              "    <tr>\n",
              "      <th>timestamp</th>\n",
              "      <td>0</td>\n",
              "    </tr>\n",
              "    <tr>\n",
              "      <th>id</th>\n",
              "      <td>0</td>\n",
              "    </tr>\n",
              "    <tr>\n",
              "      <th>rating</th>\n",
              "      <td>0</td>\n",
              "    </tr>\n",
              "    <tr>\n",
              "      <th>18_group</th>\n",
              "      <td>138</td>\n",
              "    </tr>\n",
              "    <tr>\n",
              "      <th>is_mi</th>\n",
              "      <td>343</td>\n",
              "    </tr>\n",
              "    <tr>\n",
              "      <th>fall_1</th>\n",
              "      <td>0</td>\n",
              "    </tr>\n",
              "    <tr>\n",
              "      <th>fall_2</th>\n",
              "      <td>0</td>\n",
              "    </tr>\n",
              "    <tr>\n",
              "      <th>fall_3</th>\n",
              "      <td>0</td>\n",
              "    </tr>\n",
              "    <tr>\n",
              "      <th>spring_1</th>\n",
              "      <td>0</td>\n",
              "    </tr>\n",
              "    <tr>\n",
              "      <th>spring_2</th>\n",
              "      <td>0</td>\n",
              "    </tr>\n",
              "    <tr>\n",
              "      <th>spring_3</th>\n",
              "      <td>0</td>\n",
              "    </tr>\n",
              "    <tr>\n",
              "      <th>is_first_time</th>\n",
              "      <td>2</td>\n",
              "    </tr>\n",
              "    <tr>\n",
              "      <th>percentile</th>\n",
              "      <td>0</td>\n",
              "    </tr>\n",
              "    <tr>\n",
              "      <th>17_group</th>\n",
              "      <td>223</td>\n",
              "    </tr>\n",
              "    <tr>\n",
              "      <th>blended</th>\n",
              "      <td>223</td>\n",
              "    </tr>\n",
              "    <tr>\n",
              "      <th>is_ml_student</th>\n",
              "      <td>304</td>\n",
              "    </tr>\n",
              "  </tbody>\n",
              "</table>\n",
              "</div><br><label><b>dtype:</b> int64</label>"
            ]
          },
          "metadata": {},
          "execution_count": 1857
        }
      ],
      "source": [
        "df.isna().sum()"
      ]
    },
    {
      "cell_type": "markdown",
      "metadata": {
        "id": "B5ORhP2uhLuz"
      },
      "source": [
        "Заполните пропуски пустой строкой для строковых колонок, нулём для числовых и False для булевых (постарайтесь избежать перечисления названий всех столбцов)."
      ]
    },
    {
      "cell_type": "code",
      "execution_count": 1858,
      "metadata": {
        "id": "TlF_JJ2ghLuz"
      },
      "outputs": [],
      "source": [
        "num_col = df.select_dtypes([np.number])\n",
        "df[num_col.columns] = num_col.fillna(0)\n",
        "bool_col = df.select_dtypes(include='bool')\n",
        "df[bool_col.columns] = bool_col.fillna(False)\n",
        "other_col = df.select_dtypes(exclude = [np.number, 'bool'])\n",
        "df[other_col.columns] = other_col.fillna('')"
      ]
    },
    {
      "cell_type": "markdown",
      "metadata": {
        "id": "w5ELhkT1hLuz"
      },
      "source": [
        "#### 3. [0.5 балла] Посмотрите повнимательнее на колонку 'is_first_time'.\n",
        "\n",
        "Каково процентное соотношение ответов? Сколько из них \"Нет\"?"
      ]
    },
    {
      "cell_type": "code",
      "execution_count": 1859,
      "metadata": {
        "id": "VEfiNsyQhLuz",
        "colab": {
          "base_uri": "https://localhost:8080/"
        },
        "outputId": "3ae62029-4aad-4b39-f99b-f721b56d27c0"
      },
      "outputs": [
        {
          "output_type": "stream",
          "name": "stdout",
          "text": [
            "14.127423822714682%\n"
          ]
        }
      ],
      "source": [
        "print(df[df['is_first_time'] == 'Нет'].shape[0]/df.shape[0]*100, '%', sep='')"
      ]
    },
    {
      "cell_type": "markdown",
      "source": [
        "Если вы найдете повторные обращения студентов, оставьте только самую позднюю версию. В дальнейших заданиях используйте версию данных без повторов.\n",
        "\n",
        "<i>Обращения со значением \"Нет\" в 'is_first_time' могут быть как повторными, так и первичными, поскольку поле заполняли сами студенты.</i>"
      ],
      "metadata": {
        "id": "7ufxpSDO9Hyc"
      }
    },
    {
      "cell_type": "code",
      "source": [
        "df = df.sort_values(by=['timestamp'])\n",
        "df = df.drop_duplicates(subset='id', keep='last')\n",
        "print(df[df['is_first_time'] == 'Нет'].shape[0]/df.shape[0]*100, '%', sep='')"
      ],
      "metadata": {
        "id": "M0Wx60oU9IkX",
        "colab": {
          "base_uri": "https://localhost:8080/"
        },
        "outputId": "bc042a44-7d50-4bf2-99cd-e28f899a0e6b"
      },
      "execution_count": 1860,
      "outputs": [
        {
          "output_type": "stream",
          "name": "stdout",
          "text": [
            "14.697406340057636%\n"
          ]
        }
      ]
    },
    {
      "cell_type": "markdown",
      "metadata": {
        "id": "IlzHp3HVhLuz"
      },
      "source": [
        "#### 4. [0.5 балла] Какие  blended-курсы для четверокурсников существуют? На какой blended-курс записалось наибольшее количество студентов? На каком из blended-курсов собрались студенты с самым высоким средним рейтингом (выведите этот курс и количество студентов на нем)?"
      ]
    },
    {
      "cell_type": "code",
      "execution_count": 1861,
      "metadata": {
        "id": "bsn4vn8RhLuy",
        "colab": {
          "base_uri": "https://localhost:8080/",
          "height": 259
        },
        "outputId": "c796c925-1dab-4edb-e2ad-347582c25314"
      },
      "outputs": [
        {
          "output_type": "display_data",
          "data": {
            "text/plain": [
              "blended\n",
              "                                         213\n",
              "DevOps                                    87\n",
              "Введение в дифференциальную геометрию     15\n",
              "Соревновательный анализ данных            32\n",
              "Name: id, dtype: int64"
            ],
            "text/html": [
              "<div>\n",
              "<style scoped>\n",
              "    .dataframe tbody tr th:only-of-type {\n",
              "        vertical-align: middle;\n",
              "    }\n",
              "\n",
              "    .dataframe tbody tr th {\n",
              "        vertical-align: top;\n",
              "    }\n",
              "\n",
              "    .dataframe thead th {\n",
              "        text-align: right;\n",
              "    }\n",
              "</style>\n",
              "<table border=\"1\" class=\"dataframe\">\n",
              "  <thead>\n",
              "    <tr style=\"text-align: right;\">\n",
              "      <th></th>\n",
              "      <th>id</th>\n",
              "    </tr>\n",
              "    <tr>\n",
              "      <th>blended</th>\n",
              "      <th></th>\n",
              "    </tr>\n",
              "  </thead>\n",
              "  <tbody>\n",
              "    <tr>\n",
              "      <th></th>\n",
              "      <td>213</td>\n",
              "    </tr>\n",
              "    <tr>\n",
              "      <th>DevOps</th>\n",
              "      <td>87</td>\n",
              "    </tr>\n",
              "    <tr>\n",
              "      <th>Введение в дифференциальную геометрию</th>\n",
              "      <td>15</td>\n",
              "    </tr>\n",
              "    <tr>\n",
              "      <th>Соревновательный анализ данных</th>\n",
              "      <td>32</td>\n",
              "    </tr>\n",
              "  </tbody>\n",
              "</table>\n",
              "</div><br><label><b>dtype:</b> int64</label>"
            ]
          },
          "metadata": {}
        },
        {
          "output_type": "stream",
          "name": "stdout",
          "text": [
            "Введение в дифференциальную геометрию : 15\n"
          ]
        }
      ],
      "source": [
        "from IPython.display import display\n",
        "display(df.groupby('blended').count()['id']) # Самый популярный - DevOps\n",
        "print(df.groupby('blended').describe()['rating']['mean'].idxmax(), \":\", df.groupby('blended').get_group(df.groupby('blended').describe()['rating']['mean'].idxmax()).count()['id'])"
      ]
    },
    {
      "cell_type": "markdown",
      "metadata": {
        "id": "IU_FLt8HhLu0"
      },
      "source": [
        "#### 5. [1 балл] Выясните, есть ли студенты с абсолютно одинаковыми предпочтениями по всем курсам.\n",
        "\n",
        "Для этого сформируйте таблицу, где для каждого возможного набора курсов посчитано количество студентов, выбравших такой набор, и оставьте только строки где это количество больше 1.\n",
        "\n",
        "В данном случае набор курсов задается упорядоченным множеством ('fall_1', 'fall_2', 'fall_3', 'spring_1', 'spring_2', 'spring_3', 'blended'). Элемент blended будет нулевым для 3-го курса."
      ]
    },
    {
      "cell_type": "code",
      "execution_count": 1862,
      "metadata": {
        "id": "j_BRWerHhLu0",
        "colab": {
          "base_uri": "https://localhost:8080/",
          "height": 1000
        },
        "outputId": "202a02cd-e75d-477a-dd4a-8366697af7ed"
      },
      "outputs": [
        {
          "output_type": "execute_result",
          "data": {
            "text/plain": [
              "fall_1                                           fall_2                                           fall_3                                           spring_1                                                spring_2                                     spring_3                                     blended\n",
              "Statistical Learning Theory                      Анализ неструктурированных данных                Сбор и обработка данных с помощью краудсорсинга  Обучение с подкреплением                                Конфликты и кооперация                       Компьютерное зрение                          DevOps     2\n",
              "Байесовские методы машинного обучения            Анализ неструктурированных данных                Глубинное обучение в обработке звука             Обучение с подкреплением                                Генеративные модели в машинном обучении      Компьютерное зрение                          DevOps     2\n",
              "                                                                                                  Сбор и обработка данных с помощью краудсорсинга  Обучение с подкреплением                                Компьютерное зрение                          Генеративные модели в машинном обучении      DevOps     2\n",
              "Безопасность компьютерных систем                 Statistical Learning Theory                      Матричные вычисления                             Дискретная оптимизация                                  Промышленное программирование на языке Java  Дополнительные главы прикладной статистики              3\n",
              "                                                 Высокопроизводительные вычисления                Анализ неструктурированных данных                Проектирование и разработка высоконагруженных сервисов  Методы сжатия и передачи медиаданных         Конфликты и кооперация                       DevOps     2\n",
              "                                                                                                  Язык SQL                                         Компьютерные сети                                       Промышленное программирование на языке Java  Дискретная оптимизация                                  3\n",
              "                                                                                                                                                   Промышленное программирование на языке Java             Компьютерные сети                            Системы баз данных                                      2\n",
              "                                                 Матричные вычисления                             Моделирование временных рядов                    Промышленное программирование на языке Java             Компьютерные сети                            Дискретная оптимизация                                  2\n",
              "                                                 Сбор и обработка данных с помощью краудсорсинга  Матричные вычисления                             Компьютерные сети                                       Промышленное программирование на языке Java  Анализ данных в бизнесе                                 2\n",
              "                                                 Теория баз данных                                Язык SQL                                         Машинное обучение 2                                     Компьютерные сети                            Промышленное программирование на языке Java             2\n",
              "Высокопроизводительные вычисления                Безопасность компьютерных систем                 Сбор и обработка данных с помощью краудсорсинга  Проектирование и разработка высоконагруженных сервисов  Методы сжатия и передачи медиаданных         Компьютерное зрение                          DevOps     2\n",
              "                                                 Сбор и обработка данных с помощью краудсорсинга  Моделирование временных рядов                    Проектирование и разработка высоконагруженных сервисов  Методы сжатия и передачи медиаданных         Методы сжатия и передачи медиаданных         DevOps     2\n",
              "Моделирование временных рядов                    Сбор и обработка данных с помощью краудсорсинга  Безопасность компьютерных систем                 Компьютерные сети                                       Дополнительные главы прикладной статистики   Системы баз данных                                      2\n",
              "Сбор и обработка данных с помощью краудсорсинга  Язык SQL                                         Теория баз данных                                Промышленное программирование на языке Java             Машинное обучение 2                          Компьютерные сети                                       2\n",
              "Язык SQL                                         Высокопроизводительные вычисления                Теория баз данных                                Компьютерные сети                                       Промышленное программирование на языке Java  Дискретная оптимизация                                  2\n",
              "Name: id, dtype: int64"
            ],
            "text/html": [
              "<div>\n",
              "<style scoped>\n",
              "    .dataframe tbody tr th:only-of-type {\n",
              "        vertical-align: middle;\n",
              "    }\n",
              "\n",
              "    .dataframe tbody tr th {\n",
              "        vertical-align: top;\n",
              "    }\n",
              "\n",
              "    .dataframe thead th {\n",
              "        text-align: right;\n",
              "    }\n",
              "</style>\n",
              "<table border=\"1\" class=\"dataframe\">\n",
              "  <thead>\n",
              "    <tr style=\"text-align: right;\">\n",
              "      <th></th>\n",
              "      <th></th>\n",
              "      <th></th>\n",
              "      <th></th>\n",
              "      <th></th>\n",
              "      <th></th>\n",
              "      <th></th>\n",
              "      <th>id</th>\n",
              "    </tr>\n",
              "    <tr>\n",
              "      <th>fall_1</th>\n",
              "      <th>fall_2</th>\n",
              "      <th>fall_3</th>\n",
              "      <th>spring_1</th>\n",
              "      <th>spring_2</th>\n",
              "      <th>spring_3</th>\n",
              "      <th>blended</th>\n",
              "      <th></th>\n",
              "    </tr>\n",
              "  </thead>\n",
              "  <tbody>\n",
              "    <tr>\n",
              "      <th>Statistical Learning Theory</th>\n",
              "      <th>Анализ неструктурированных данных</th>\n",
              "      <th>Сбор и обработка данных с помощью краудсорсинга</th>\n",
              "      <th>Обучение с подкреплением</th>\n",
              "      <th>Конфликты и кооперация</th>\n",
              "      <th>Компьютерное зрение</th>\n",
              "      <th>DevOps</th>\n",
              "      <td>2</td>\n",
              "    </tr>\n",
              "    <tr>\n",
              "      <th rowspan=\"2\" valign=\"top\">Байесовские методы машинного обучения</th>\n",
              "      <th rowspan=\"2\" valign=\"top\">Анализ неструктурированных данных</th>\n",
              "      <th>Глубинное обучение в обработке звука</th>\n",
              "      <th>Обучение с подкреплением</th>\n",
              "      <th>Генеративные модели в машинном обучении</th>\n",
              "      <th>Компьютерное зрение</th>\n",
              "      <th>DevOps</th>\n",
              "      <td>2</td>\n",
              "    </tr>\n",
              "    <tr>\n",
              "      <th>Сбор и обработка данных с помощью краудсорсинга</th>\n",
              "      <th>Обучение с подкреплением</th>\n",
              "      <th>Компьютерное зрение</th>\n",
              "      <th>Генеративные модели в машинном обучении</th>\n",
              "      <th>DevOps</th>\n",
              "      <td>2</td>\n",
              "    </tr>\n",
              "    <tr>\n",
              "      <th rowspan=\"7\" valign=\"top\">Безопасность компьютерных систем</th>\n",
              "      <th>Statistical Learning Theory</th>\n",
              "      <th>Матричные вычисления</th>\n",
              "      <th>Дискретная оптимизация</th>\n",
              "      <th>Промышленное программирование на языке Java</th>\n",
              "      <th>Дополнительные главы прикладной статистики</th>\n",
              "      <th></th>\n",
              "      <td>3</td>\n",
              "    </tr>\n",
              "    <tr>\n",
              "      <th rowspan=\"3\" valign=\"top\">Высокопроизводительные вычисления</th>\n",
              "      <th>Анализ неструктурированных данных</th>\n",
              "      <th>Проектирование и разработка высоконагруженных сервисов</th>\n",
              "      <th>Методы сжатия и передачи медиаданных</th>\n",
              "      <th>Конфликты и кооперация</th>\n",
              "      <th>DevOps</th>\n",
              "      <td>2</td>\n",
              "    </tr>\n",
              "    <tr>\n",
              "      <th rowspan=\"2\" valign=\"top\">Язык SQL</th>\n",
              "      <th>Компьютерные сети</th>\n",
              "      <th>Промышленное программирование на языке Java</th>\n",
              "      <th>Дискретная оптимизация</th>\n",
              "      <th></th>\n",
              "      <td>3</td>\n",
              "    </tr>\n",
              "    <tr>\n",
              "      <th>Промышленное программирование на языке Java</th>\n",
              "      <th>Компьютерные сети</th>\n",
              "      <th>Системы баз данных</th>\n",
              "      <th></th>\n",
              "      <td>2</td>\n",
              "    </tr>\n",
              "    <tr>\n",
              "      <th>Матричные вычисления</th>\n",
              "      <th>Моделирование временных рядов</th>\n",
              "      <th>Промышленное программирование на языке Java</th>\n",
              "      <th>Компьютерные сети</th>\n",
              "      <th>Дискретная оптимизация</th>\n",
              "      <th></th>\n",
              "      <td>2</td>\n",
              "    </tr>\n",
              "    <tr>\n",
              "      <th>Сбор и обработка данных с помощью краудсорсинга</th>\n",
              "      <th>Матричные вычисления</th>\n",
              "      <th>Компьютерные сети</th>\n",
              "      <th>Промышленное программирование на языке Java</th>\n",
              "      <th>Анализ данных в бизнесе</th>\n",
              "      <th></th>\n",
              "      <td>2</td>\n",
              "    </tr>\n",
              "    <tr>\n",
              "      <th>Теория баз данных</th>\n",
              "      <th>Язык SQL</th>\n",
              "      <th>Машинное обучение 2</th>\n",
              "      <th>Компьютерные сети</th>\n",
              "      <th>Промышленное программирование на языке Java</th>\n",
              "      <th></th>\n",
              "      <td>2</td>\n",
              "    </tr>\n",
              "    <tr>\n",
              "      <th rowspan=\"2\" valign=\"top\">Высокопроизводительные вычисления</th>\n",
              "      <th>Безопасность компьютерных систем</th>\n",
              "      <th>Сбор и обработка данных с помощью краудсорсинга</th>\n",
              "      <th>Проектирование и разработка высоконагруженных сервисов</th>\n",
              "      <th>Методы сжатия и передачи медиаданных</th>\n",
              "      <th>Компьютерное зрение</th>\n",
              "      <th>DevOps</th>\n",
              "      <td>2</td>\n",
              "    </tr>\n",
              "    <tr>\n",
              "      <th>Сбор и обработка данных с помощью краудсорсинга</th>\n",
              "      <th>Моделирование временных рядов</th>\n",
              "      <th>Проектирование и разработка высоконагруженных сервисов</th>\n",
              "      <th>Методы сжатия и передачи медиаданных</th>\n",
              "      <th>Методы сжатия и передачи медиаданных</th>\n",
              "      <th>DevOps</th>\n",
              "      <td>2</td>\n",
              "    </tr>\n",
              "    <tr>\n",
              "      <th>Моделирование временных рядов</th>\n",
              "      <th>Сбор и обработка данных с помощью краудсорсинга</th>\n",
              "      <th>Безопасность компьютерных систем</th>\n",
              "      <th>Компьютерные сети</th>\n",
              "      <th>Дополнительные главы прикладной статистики</th>\n",
              "      <th>Системы баз данных</th>\n",
              "      <th></th>\n",
              "      <td>2</td>\n",
              "    </tr>\n",
              "    <tr>\n",
              "      <th>Сбор и обработка данных с помощью краудсорсинга</th>\n",
              "      <th>Язык SQL</th>\n",
              "      <th>Теория баз данных</th>\n",
              "      <th>Промышленное программирование на языке Java</th>\n",
              "      <th>Машинное обучение 2</th>\n",
              "      <th>Компьютерные сети</th>\n",
              "      <th></th>\n",
              "      <td>2</td>\n",
              "    </tr>\n",
              "    <tr>\n",
              "      <th>Язык SQL</th>\n",
              "      <th>Высокопроизводительные вычисления</th>\n",
              "      <th>Теория баз данных</th>\n",
              "      <th>Компьютерные сети</th>\n",
              "      <th>Промышленное программирование на языке Java</th>\n",
              "      <th>Дискретная оптимизация</th>\n",
              "      <th></th>\n",
              "      <td>2</td>\n",
              "    </tr>\n",
              "  </tbody>\n",
              "</table>\n",
              "</div><br><label><b>dtype:</b> int64</label>"
            ]
          },
          "metadata": {},
          "execution_count": 1862
        }
      ],
      "source": [
        "df.groupby([ 'fall_1',  'fall_2', 'fall_3', 'spring_1', 'spring_2', 'spring_3', 'blended']).count()[df.groupby([ 'fall_1',  'fall_2', 'fall_3', 'spring_1', 'spring_2', 'spring_3', 'blended']).count()['id']>1]['id']"
      ]
    },
    {
      "cell_type": "markdown",
      "metadata": {
        "id": "spu3r3vchLu0"
      },
      "source": [
        "#### 6. [0.5 балла] Найдите курсы по выбору, на которые записывались как студенты 18-го года набора, так и студенты 17-го года."
      ]
    },
    {
      "cell_type": "code",
      "execution_count": 1863,
      "metadata": {
        "id": "t21fWi8ShLu0",
        "colab": {
          "base_uri": "https://localhost:8080/",
          "height": 269
        },
        "outputId": "af6c3e3c-b504-4f18-8606-956c6d1631c6"
      },
      "outputs": [
        {
          "output_type": "execute_result",
          "data": {
            "text/plain": [
              "                                                    17_group  18_group\n",
              "Statistical Learning Theory                             30.0      45.0\n",
              "Безопасность компьютерных систем                        56.0     131.0\n",
              "Высокопроизводительные вычисления                       55.0      69.0\n",
              "Моделирование временных рядов                           39.0      55.0\n",
              "Принятие решений в условиях риска и неопределён...       6.0      22.0\n",
              "Сбор и обработка данных с помощью краудсорсинга         56.0      78.0\n",
              "Численные методы                                        17.0      48.0"
            ],
            "text/html": [
              "\n",
              "  <div id=\"df-a6e4955a-12a1-44a3-a7ae-a3024f2ee065\" class=\"colab-df-container\">\n",
              "    <div>\n",
              "<style scoped>\n",
              "    .dataframe tbody tr th:only-of-type {\n",
              "        vertical-align: middle;\n",
              "    }\n",
              "\n",
              "    .dataframe tbody tr th {\n",
              "        vertical-align: top;\n",
              "    }\n",
              "\n",
              "    .dataframe thead th {\n",
              "        text-align: right;\n",
              "    }\n",
              "</style>\n",
              "<table border=\"1\" class=\"dataframe\">\n",
              "  <thead>\n",
              "    <tr style=\"text-align: right;\">\n",
              "      <th></th>\n",
              "      <th>17_group</th>\n",
              "      <th>18_group</th>\n",
              "    </tr>\n",
              "  </thead>\n",
              "  <tbody>\n",
              "    <tr>\n",
              "      <th>Statistical Learning Theory</th>\n",
              "      <td>30.0</td>\n",
              "      <td>45.0</td>\n",
              "    </tr>\n",
              "    <tr>\n",
              "      <th>Безопасность компьютерных систем</th>\n",
              "      <td>56.0</td>\n",
              "      <td>131.0</td>\n",
              "    </tr>\n",
              "    <tr>\n",
              "      <th>Высокопроизводительные вычисления</th>\n",
              "      <td>55.0</td>\n",
              "      <td>69.0</td>\n",
              "    </tr>\n",
              "    <tr>\n",
              "      <th>Моделирование временных рядов</th>\n",
              "      <td>39.0</td>\n",
              "      <td>55.0</td>\n",
              "    </tr>\n",
              "    <tr>\n",
              "      <th>Принятие решений в условиях риска и неопределённости</th>\n",
              "      <td>6.0</td>\n",
              "      <td>22.0</td>\n",
              "    </tr>\n",
              "    <tr>\n",
              "      <th>Сбор и обработка данных с помощью краудсорсинга</th>\n",
              "      <td>56.0</td>\n",
              "      <td>78.0</td>\n",
              "    </tr>\n",
              "    <tr>\n",
              "      <th>Численные методы</th>\n",
              "      <td>17.0</td>\n",
              "      <td>48.0</td>\n",
              "    </tr>\n",
              "  </tbody>\n",
              "</table>\n",
              "</div>\n",
              "    <div class=\"colab-df-buttons\">\n",
              "\n",
              "  <div class=\"colab-df-container\">\n",
              "    <button class=\"colab-df-convert\" onclick=\"convertToInteractive('df-a6e4955a-12a1-44a3-a7ae-a3024f2ee065')\"\n",
              "            title=\"Convert this dataframe to an interactive table.\"\n",
              "            style=\"display:none;\">\n",
              "\n",
              "  <svg xmlns=\"http://www.w3.org/2000/svg\" height=\"24px\" viewBox=\"0 -960 960 960\">\n",
              "    <path d=\"M120-120v-720h720v720H120Zm60-500h600v-160H180v160Zm220 220h160v-160H400v160Zm0 220h160v-160H400v160ZM180-400h160v-160H180v160Zm440 0h160v-160H620v160ZM180-180h160v-160H180v160Zm440 0h160v-160H620v160Z\"/>\n",
              "  </svg>\n",
              "    </button>\n",
              "\n",
              "  <style>\n",
              "    .colab-df-container {\n",
              "      display:flex;\n",
              "      gap: 12px;\n",
              "    }\n",
              "\n",
              "    .colab-df-convert {\n",
              "      background-color: #E8F0FE;\n",
              "      border: none;\n",
              "      border-radius: 50%;\n",
              "      cursor: pointer;\n",
              "      display: none;\n",
              "      fill: #1967D2;\n",
              "      height: 32px;\n",
              "      padding: 0 0 0 0;\n",
              "      width: 32px;\n",
              "    }\n",
              "\n",
              "    .colab-df-convert:hover {\n",
              "      background-color: #E2EBFA;\n",
              "      box-shadow: 0px 1px 2px rgba(60, 64, 67, 0.3), 0px 1px 3px 1px rgba(60, 64, 67, 0.15);\n",
              "      fill: #174EA6;\n",
              "    }\n",
              "\n",
              "    .colab-df-buttons div {\n",
              "      margin-bottom: 4px;\n",
              "    }\n",
              "\n",
              "    [theme=dark] .colab-df-convert {\n",
              "      background-color: #3B4455;\n",
              "      fill: #D2E3FC;\n",
              "    }\n",
              "\n",
              "    [theme=dark] .colab-df-convert:hover {\n",
              "      background-color: #434B5C;\n",
              "      box-shadow: 0px 1px 3px 1px rgba(0, 0, 0, 0.15);\n",
              "      filter: drop-shadow(0px 1px 2px rgba(0, 0, 0, 0.3));\n",
              "      fill: #FFFFFF;\n",
              "    }\n",
              "  </style>\n",
              "\n",
              "    <script>\n",
              "      const buttonEl =\n",
              "        document.querySelector('#df-a6e4955a-12a1-44a3-a7ae-a3024f2ee065 button.colab-df-convert');\n",
              "      buttonEl.style.display =\n",
              "        google.colab.kernel.accessAllowed ? 'block' : 'none';\n",
              "\n",
              "      async function convertToInteractive(key) {\n",
              "        const element = document.querySelector('#df-a6e4955a-12a1-44a3-a7ae-a3024f2ee065');\n",
              "        const dataTable =\n",
              "          await google.colab.kernel.invokeFunction('convertToInteractive',\n",
              "                                                    [key], {});\n",
              "        if (!dataTable) return;\n",
              "\n",
              "        const docLinkHtml = 'Like what you see? Visit the ' +\n",
              "          '<a target=\"_blank\" href=https://colab.research.google.com/notebooks/data_table.ipynb>data table notebook</a>'\n",
              "          + ' to learn more about interactive tables.';\n",
              "        element.innerHTML = '';\n",
              "        dataTable['output_type'] = 'display_data';\n",
              "        await google.colab.output.renderOutput(dataTable, element);\n",
              "        const docLink = document.createElement('div');\n",
              "        docLink.innerHTML = docLinkHtml;\n",
              "        element.appendChild(docLink);\n",
              "      }\n",
              "    </script>\n",
              "  </div>\n",
              "\n",
              "\n",
              "<div id=\"df-973c81ce-f409-4111-a294-7b796ee5a55d\">\n",
              "  <button class=\"colab-df-quickchart\" onclick=\"quickchart('df-973c81ce-f409-4111-a294-7b796ee5a55d')\"\n",
              "            title=\"Suggest charts\"\n",
              "            style=\"display:none;\">\n",
              "\n",
              "<svg xmlns=\"http://www.w3.org/2000/svg\" height=\"24px\"viewBox=\"0 0 24 24\"\n",
              "     width=\"24px\">\n",
              "    <g>\n",
              "        <path d=\"M19 3H5c-1.1 0-2 .9-2 2v14c0 1.1.9 2 2 2h14c1.1 0 2-.9 2-2V5c0-1.1-.9-2-2-2zM9 17H7v-7h2v7zm4 0h-2V7h2v10zm4 0h-2v-4h2v4z\"/>\n",
              "    </g>\n",
              "</svg>\n",
              "  </button>\n",
              "\n",
              "<style>\n",
              "  .colab-df-quickchart {\n",
              "      --bg-color: #E8F0FE;\n",
              "      --fill-color: #1967D2;\n",
              "      --hover-bg-color: #E2EBFA;\n",
              "      --hover-fill-color: #174EA6;\n",
              "      --disabled-fill-color: #AAA;\n",
              "      --disabled-bg-color: #DDD;\n",
              "  }\n",
              "\n",
              "  [theme=dark] .colab-df-quickchart {\n",
              "      --bg-color: #3B4455;\n",
              "      --fill-color: #D2E3FC;\n",
              "      --hover-bg-color: #434B5C;\n",
              "      --hover-fill-color: #FFFFFF;\n",
              "      --disabled-bg-color: #3B4455;\n",
              "      --disabled-fill-color: #666;\n",
              "  }\n",
              "\n",
              "  .colab-df-quickchart {\n",
              "    background-color: var(--bg-color);\n",
              "    border: none;\n",
              "    border-radius: 50%;\n",
              "    cursor: pointer;\n",
              "    display: none;\n",
              "    fill: var(--fill-color);\n",
              "    height: 32px;\n",
              "    padding: 0;\n",
              "    width: 32px;\n",
              "  }\n",
              "\n",
              "  .colab-df-quickchart:hover {\n",
              "    background-color: var(--hover-bg-color);\n",
              "    box-shadow: 0 1px 2px rgba(60, 64, 67, 0.3), 0 1px 3px 1px rgba(60, 64, 67, 0.15);\n",
              "    fill: var(--button-hover-fill-color);\n",
              "  }\n",
              "\n",
              "  .colab-df-quickchart-complete:disabled,\n",
              "  .colab-df-quickchart-complete:disabled:hover {\n",
              "    background-color: var(--disabled-bg-color);\n",
              "    fill: var(--disabled-fill-color);\n",
              "    box-shadow: none;\n",
              "  }\n",
              "\n",
              "  .colab-df-spinner {\n",
              "    border: 2px solid var(--fill-color);\n",
              "    border-color: transparent;\n",
              "    border-bottom-color: var(--fill-color);\n",
              "    animation:\n",
              "      spin 1s steps(1) infinite;\n",
              "  }\n",
              "\n",
              "  @keyframes spin {\n",
              "    0% {\n",
              "      border-color: transparent;\n",
              "      border-bottom-color: var(--fill-color);\n",
              "      border-left-color: var(--fill-color);\n",
              "    }\n",
              "    20% {\n",
              "      border-color: transparent;\n",
              "      border-left-color: var(--fill-color);\n",
              "      border-top-color: var(--fill-color);\n",
              "    }\n",
              "    30% {\n",
              "      border-color: transparent;\n",
              "      border-left-color: var(--fill-color);\n",
              "      border-top-color: var(--fill-color);\n",
              "      border-right-color: var(--fill-color);\n",
              "    }\n",
              "    40% {\n",
              "      border-color: transparent;\n",
              "      border-right-color: var(--fill-color);\n",
              "      border-top-color: var(--fill-color);\n",
              "    }\n",
              "    60% {\n",
              "      border-color: transparent;\n",
              "      border-right-color: var(--fill-color);\n",
              "    }\n",
              "    80% {\n",
              "      border-color: transparent;\n",
              "      border-right-color: var(--fill-color);\n",
              "      border-bottom-color: var(--fill-color);\n",
              "    }\n",
              "    90% {\n",
              "      border-color: transparent;\n",
              "      border-bottom-color: var(--fill-color);\n",
              "    }\n",
              "  }\n",
              "</style>\n",
              "\n",
              "  <script>\n",
              "    async function quickchart(key) {\n",
              "      const quickchartButtonEl =\n",
              "        document.querySelector('#' + key + ' button');\n",
              "      quickchartButtonEl.disabled = true;  // To prevent multiple clicks.\n",
              "      quickchartButtonEl.classList.add('colab-df-spinner');\n",
              "      try {\n",
              "        const charts = await google.colab.kernel.invokeFunction(\n",
              "            'suggestCharts', [key], {});\n",
              "      } catch (error) {\n",
              "        console.error('Error during call to suggestCharts:', error);\n",
              "      }\n",
              "      quickchartButtonEl.classList.remove('colab-df-spinner');\n",
              "      quickchartButtonEl.classList.add('colab-df-quickchart-complete');\n",
              "    }\n",
              "    (() => {\n",
              "      let quickchartButtonEl =\n",
              "        document.querySelector('#df-973c81ce-f409-4111-a294-7b796ee5a55d button');\n",
              "      quickchartButtonEl.style.display =\n",
              "        google.colab.kernel.accessAllowed ? 'block' : 'none';\n",
              "    })();\n",
              "  </script>\n",
              "</div>\n",
              "    </div>\n",
              "  </div>\n"
            ],
            "application/vnd.google.colaboratory.intrinsic+json": {
              "type": "dataframe",
              "summary": "{\n  \"name\": \"cources[(cources['18_group'] > 0) & (cources['17_group'] > 0)]\",\n  \"rows\": 7,\n  \"fields\": [\n    {\n      \"column\": \"17_group\",\n      \"properties\": {\n        \"dtype\": \"number\",\n        \"std\": 20.248456731316587,\n        \"min\": 6.0,\n        \"max\": 56.0,\n        \"num_unique_values\": 6,\n        \"samples\": [\n          30.0,\n          56.0,\n          17.0\n        ],\n        \"semantic_type\": \"\",\n        \"description\": \"\"\n      }\n    },\n    {\n      \"column\": \"18_group\",\n      \"properties\": {\n        \"dtype\": \"number\",\n        \"std\": 34.57359300583804,\n        \"min\": 22.0,\n        \"max\": 131.0,\n        \"num_unique_values\": 7,\n        \"samples\": [\n          45.0,\n          131.0,\n          78.0\n        ],\n        \"semantic_type\": \"\",\n        \"description\": \"\"\n      }\n    }\n  ]\n}"
            }
          },
          "metadata": {},
          "execution_count": 1863
        }
      ],
      "source": [
        "d17 = df[df['17_group'] > 0]\n",
        "d18 = df[df['18_group'] > 0]\n",
        "d17_cources_fall = d17.groupby('fall_1').count()['17_group'] + d17.groupby('fall_2').count()['17_group'] + d17.groupby('fall_3').count()['17_group']\n",
        "d17_cources_spring = d17.groupby('spring_1').count()['17_group'] + d17.groupby('spring_2').count()['17_group'] + d17.groupby('spring_3').count()['17_group']\n",
        "d17_cources = d17_cources_fall.add(d17_cources_spring, fill_value = 0)\n",
        "d17_cources = d17_cources.add(d17.groupby('blended').count()['17_group'], fill_value = 0)\n",
        "\n",
        "d18_cources_fall = d18.groupby('fall_1').count()['18_group'] + d18.groupby('fall_2').count()['18_group'] + d18.groupby('fall_3').count()['18_group']\n",
        "d18_cources_spring = d18.groupby('spring_1').count()['18_group'] + d18.groupby('spring_2').count()['18_group'] + d18.groupby('spring_3').count()['18_group']\n",
        "d18_cources = d18_cources_fall.add(d18_cources_spring, fill_value = 0)\n",
        "d18_cources = d18_cources.add(d18.groupby('blended').count()['18_group'], fill_value = 0)\n",
        "\n",
        "cources = pd.concat([d17_cources, d18_cources], axis = 1).fillna(0)\n",
        "cources[(cources['18_group'] > 0) & (cources['17_group'] > 0)]\n"
      ]
    },
    {
      "cell_type": "markdown",
      "metadata": {
        "id": "PYfX-Dr5hLu0"
      },
      "source": [
        "Методом исключения найдите курсы, которые предлагались только студентам 18-го года и только студентам 17-го года."
      ]
    },
    {
      "cell_type": "code",
      "execution_count": 1864,
      "metadata": {
        "id": "G9SWBOpehLu1",
        "colab": {
          "base_uri": "https://localhost:8080/",
          "height": 802
        },
        "outputId": "4aa3a3bd-ff28-4c19-b8d1-2d81c2a7f003"
      },
      "outputs": [
        {
          "output_type": "execute_result",
          "data": {
            "text/plain": [
              "                                                    17_group  18_group\n",
              "DevOps                                                  87.0       0.0\n",
              "Анализ неструктурированных данных                       70.0       0.0\n",
              "Байесовские методы машинного обучения                   38.0       0.0\n",
              "Введение в дифференциальную геометрию                   15.0       0.0\n",
              "Генеративные модели в машинном обучении                 36.0       0.0\n",
              "Глубинное обучение в обработке звука                    52.0       0.0\n",
              "Компьютерное зрение                                     76.0       0.0\n",
              "Конфликты и кооперация                                  39.0       0.0\n",
              "Методы сжатия и передачи медиаданных                    64.0       0.0\n",
              "Обучение с подкреплением                                75.0       0.0\n",
              "Проектирование и разработка высоконагруженных с...      69.0       0.0\n",
              "Символьные вычисления                                   26.0       0.0\n",
              "Соревновательный анализ данных                          32.0       0.0\n",
              "                                                         0.0     213.0\n",
              "Анализ данных в бизнесе                                  0.0      63.0\n",
              "Дискретная оптимизация                                   0.0      86.0\n",
              "Дополнительные главы прикладной статистики               0.0      50.0\n",
              "Компьютерные сети                                        0.0     114.0\n",
              "Матричные вычисления                                     0.0      74.0\n",
              "Машинное обучение 2                                      0.0      79.0\n",
              "Промышленное программирование на языке Java              0.0     139.0\n",
              "Системы баз данных                                       0.0      60.0\n",
              "Теория баз данных                                        0.0      55.0\n",
              "Язык SQL                                                 0.0     110.0"
            ],
            "text/html": [
              "\n",
              "  <div id=\"df-5d246aa6-4086-4ae1-a880-fc6bfcc911bf\" class=\"colab-df-container\">\n",
              "    <div>\n",
              "<style scoped>\n",
              "    .dataframe tbody tr th:only-of-type {\n",
              "        vertical-align: middle;\n",
              "    }\n",
              "\n",
              "    .dataframe tbody tr th {\n",
              "        vertical-align: top;\n",
              "    }\n",
              "\n",
              "    .dataframe thead th {\n",
              "        text-align: right;\n",
              "    }\n",
              "</style>\n",
              "<table border=\"1\" class=\"dataframe\">\n",
              "  <thead>\n",
              "    <tr style=\"text-align: right;\">\n",
              "      <th></th>\n",
              "      <th>17_group</th>\n",
              "      <th>18_group</th>\n",
              "    </tr>\n",
              "  </thead>\n",
              "  <tbody>\n",
              "    <tr>\n",
              "      <th>DevOps</th>\n",
              "      <td>87.0</td>\n",
              "      <td>0.0</td>\n",
              "    </tr>\n",
              "    <tr>\n",
              "      <th>Анализ неструктурированных данных</th>\n",
              "      <td>70.0</td>\n",
              "      <td>0.0</td>\n",
              "    </tr>\n",
              "    <tr>\n",
              "      <th>Байесовские методы машинного обучения</th>\n",
              "      <td>38.0</td>\n",
              "      <td>0.0</td>\n",
              "    </tr>\n",
              "    <tr>\n",
              "      <th>Введение в дифференциальную геометрию</th>\n",
              "      <td>15.0</td>\n",
              "      <td>0.0</td>\n",
              "    </tr>\n",
              "    <tr>\n",
              "      <th>Генеративные модели в машинном обучении</th>\n",
              "      <td>36.0</td>\n",
              "      <td>0.0</td>\n",
              "    </tr>\n",
              "    <tr>\n",
              "      <th>Глубинное обучение в обработке звука</th>\n",
              "      <td>52.0</td>\n",
              "      <td>0.0</td>\n",
              "    </tr>\n",
              "    <tr>\n",
              "      <th>Компьютерное зрение</th>\n",
              "      <td>76.0</td>\n",
              "      <td>0.0</td>\n",
              "    </tr>\n",
              "    <tr>\n",
              "      <th>Конфликты и кооперация</th>\n",
              "      <td>39.0</td>\n",
              "      <td>0.0</td>\n",
              "    </tr>\n",
              "    <tr>\n",
              "      <th>Методы сжатия и передачи медиаданных</th>\n",
              "      <td>64.0</td>\n",
              "      <td>0.0</td>\n",
              "    </tr>\n",
              "    <tr>\n",
              "      <th>Обучение с подкреплением</th>\n",
              "      <td>75.0</td>\n",
              "      <td>0.0</td>\n",
              "    </tr>\n",
              "    <tr>\n",
              "      <th>Проектирование и разработка высоконагруженных сервисов</th>\n",
              "      <td>69.0</td>\n",
              "      <td>0.0</td>\n",
              "    </tr>\n",
              "    <tr>\n",
              "      <th>Символьные вычисления</th>\n",
              "      <td>26.0</td>\n",
              "      <td>0.0</td>\n",
              "    </tr>\n",
              "    <tr>\n",
              "      <th>Соревновательный анализ данных</th>\n",
              "      <td>32.0</td>\n",
              "      <td>0.0</td>\n",
              "    </tr>\n",
              "    <tr>\n",
              "      <th></th>\n",
              "      <td>0.0</td>\n",
              "      <td>213.0</td>\n",
              "    </tr>\n",
              "    <tr>\n",
              "      <th>Анализ данных в бизнесе</th>\n",
              "      <td>0.0</td>\n",
              "      <td>63.0</td>\n",
              "    </tr>\n",
              "    <tr>\n",
              "      <th>Дискретная оптимизация</th>\n",
              "      <td>0.0</td>\n",
              "      <td>86.0</td>\n",
              "    </tr>\n",
              "    <tr>\n",
              "      <th>Дополнительные главы прикладной статистики</th>\n",
              "      <td>0.0</td>\n",
              "      <td>50.0</td>\n",
              "    </tr>\n",
              "    <tr>\n",
              "      <th>Компьютерные сети</th>\n",
              "      <td>0.0</td>\n",
              "      <td>114.0</td>\n",
              "    </tr>\n",
              "    <tr>\n",
              "      <th>Матричные вычисления</th>\n",
              "      <td>0.0</td>\n",
              "      <td>74.0</td>\n",
              "    </tr>\n",
              "    <tr>\n",
              "      <th>Машинное обучение 2</th>\n",
              "      <td>0.0</td>\n",
              "      <td>79.0</td>\n",
              "    </tr>\n",
              "    <tr>\n",
              "      <th>Промышленное программирование на языке Java</th>\n",
              "      <td>0.0</td>\n",
              "      <td>139.0</td>\n",
              "    </tr>\n",
              "    <tr>\n",
              "      <th>Системы баз данных</th>\n",
              "      <td>0.0</td>\n",
              "      <td>60.0</td>\n",
              "    </tr>\n",
              "    <tr>\n",
              "      <th>Теория баз данных</th>\n",
              "      <td>0.0</td>\n",
              "      <td>55.0</td>\n",
              "    </tr>\n",
              "    <tr>\n",
              "      <th>Язык SQL</th>\n",
              "      <td>0.0</td>\n",
              "      <td>110.0</td>\n",
              "    </tr>\n",
              "  </tbody>\n",
              "</table>\n",
              "</div>\n",
              "    <div class=\"colab-df-buttons\">\n",
              "\n",
              "  <div class=\"colab-df-container\">\n",
              "    <button class=\"colab-df-convert\" onclick=\"convertToInteractive('df-5d246aa6-4086-4ae1-a880-fc6bfcc911bf')\"\n",
              "            title=\"Convert this dataframe to an interactive table.\"\n",
              "            style=\"display:none;\">\n",
              "\n",
              "  <svg xmlns=\"http://www.w3.org/2000/svg\" height=\"24px\" viewBox=\"0 -960 960 960\">\n",
              "    <path d=\"M120-120v-720h720v720H120Zm60-500h600v-160H180v160Zm220 220h160v-160H400v160Zm0 220h160v-160H400v160ZM180-400h160v-160H180v160Zm440 0h160v-160H620v160ZM180-180h160v-160H180v160Zm440 0h160v-160H620v160Z\"/>\n",
              "  </svg>\n",
              "    </button>\n",
              "\n",
              "  <style>\n",
              "    .colab-df-container {\n",
              "      display:flex;\n",
              "      gap: 12px;\n",
              "    }\n",
              "\n",
              "    .colab-df-convert {\n",
              "      background-color: #E8F0FE;\n",
              "      border: none;\n",
              "      border-radius: 50%;\n",
              "      cursor: pointer;\n",
              "      display: none;\n",
              "      fill: #1967D2;\n",
              "      height: 32px;\n",
              "      padding: 0 0 0 0;\n",
              "      width: 32px;\n",
              "    }\n",
              "\n",
              "    .colab-df-convert:hover {\n",
              "      background-color: #E2EBFA;\n",
              "      box-shadow: 0px 1px 2px rgba(60, 64, 67, 0.3), 0px 1px 3px 1px rgba(60, 64, 67, 0.15);\n",
              "      fill: #174EA6;\n",
              "    }\n",
              "\n",
              "    .colab-df-buttons div {\n",
              "      margin-bottom: 4px;\n",
              "    }\n",
              "\n",
              "    [theme=dark] .colab-df-convert {\n",
              "      background-color: #3B4455;\n",
              "      fill: #D2E3FC;\n",
              "    }\n",
              "\n",
              "    [theme=dark] .colab-df-convert:hover {\n",
              "      background-color: #434B5C;\n",
              "      box-shadow: 0px 1px 3px 1px rgba(0, 0, 0, 0.15);\n",
              "      filter: drop-shadow(0px 1px 2px rgba(0, 0, 0, 0.3));\n",
              "      fill: #FFFFFF;\n",
              "    }\n",
              "  </style>\n",
              "\n",
              "    <script>\n",
              "      const buttonEl =\n",
              "        document.querySelector('#df-5d246aa6-4086-4ae1-a880-fc6bfcc911bf button.colab-df-convert');\n",
              "      buttonEl.style.display =\n",
              "        google.colab.kernel.accessAllowed ? 'block' : 'none';\n",
              "\n",
              "      async function convertToInteractive(key) {\n",
              "        const element = document.querySelector('#df-5d246aa6-4086-4ae1-a880-fc6bfcc911bf');\n",
              "        const dataTable =\n",
              "          await google.colab.kernel.invokeFunction('convertToInteractive',\n",
              "                                                    [key], {});\n",
              "        if (!dataTable) return;\n",
              "\n",
              "        const docLinkHtml = 'Like what you see? Visit the ' +\n",
              "          '<a target=\"_blank\" href=https://colab.research.google.com/notebooks/data_table.ipynb>data table notebook</a>'\n",
              "          + ' to learn more about interactive tables.';\n",
              "        element.innerHTML = '';\n",
              "        dataTable['output_type'] = 'display_data';\n",
              "        await google.colab.output.renderOutput(dataTable, element);\n",
              "        const docLink = document.createElement('div');\n",
              "        docLink.innerHTML = docLinkHtml;\n",
              "        element.appendChild(docLink);\n",
              "      }\n",
              "    </script>\n",
              "  </div>\n",
              "\n",
              "\n",
              "<div id=\"df-40cdd318-9388-4a81-a6c6-4677f8382d60\">\n",
              "  <button class=\"colab-df-quickchart\" onclick=\"quickchart('df-40cdd318-9388-4a81-a6c6-4677f8382d60')\"\n",
              "            title=\"Suggest charts\"\n",
              "            style=\"display:none;\">\n",
              "\n",
              "<svg xmlns=\"http://www.w3.org/2000/svg\" height=\"24px\"viewBox=\"0 0 24 24\"\n",
              "     width=\"24px\">\n",
              "    <g>\n",
              "        <path d=\"M19 3H5c-1.1 0-2 .9-2 2v14c0 1.1.9 2 2 2h14c1.1 0 2-.9 2-2V5c0-1.1-.9-2-2-2zM9 17H7v-7h2v7zm4 0h-2V7h2v10zm4 0h-2v-4h2v4z\"/>\n",
              "    </g>\n",
              "</svg>\n",
              "  </button>\n",
              "\n",
              "<style>\n",
              "  .colab-df-quickchart {\n",
              "      --bg-color: #E8F0FE;\n",
              "      --fill-color: #1967D2;\n",
              "      --hover-bg-color: #E2EBFA;\n",
              "      --hover-fill-color: #174EA6;\n",
              "      --disabled-fill-color: #AAA;\n",
              "      --disabled-bg-color: #DDD;\n",
              "  }\n",
              "\n",
              "  [theme=dark] .colab-df-quickchart {\n",
              "      --bg-color: #3B4455;\n",
              "      --fill-color: #D2E3FC;\n",
              "      --hover-bg-color: #434B5C;\n",
              "      --hover-fill-color: #FFFFFF;\n",
              "      --disabled-bg-color: #3B4455;\n",
              "      --disabled-fill-color: #666;\n",
              "  }\n",
              "\n",
              "  .colab-df-quickchart {\n",
              "    background-color: var(--bg-color);\n",
              "    border: none;\n",
              "    border-radius: 50%;\n",
              "    cursor: pointer;\n",
              "    display: none;\n",
              "    fill: var(--fill-color);\n",
              "    height: 32px;\n",
              "    padding: 0;\n",
              "    width: 32px;\n",
              "  }\n",
              "\n",
              "  .colab-df-quickchart:hover {\n",
              "    background-color: var(--hover-bg-color);\n",
              "    box-shadow: 0 1px 2px rgba(60, 64, 67, 0.3), 0 1px 3px 1px rgba(60, 64, 67, 0.15);\n",
              "    fill: var(--button-hover-fill-color);\n",
              "  }\n",
              "\n",
              "  .colab-df-quickchart-complete:disabled,\n",
              "  .colab-df-quickchart-complete:disabled:hover {\n",
              "    background-color: var(--disabled-bg-color);\n",
              "    fill: var(--disabled-fill-color);\n",
              "    box-shadow: none;\n",
              "  }\n",
              "\n",
              "  .colab-df-spinner {\n",
              "    border: 2px solid var(--fill-color);\n",
              "    border-color: transparent;\n",
              "    border-bottom-color: var(--fill-color);\n",
              "    animation:\n",
              "      spin 1s steps(1) infinite;\n",
              "  }\n",
              "\n",
              "  @keyframes spin {\n",
              "    0% {\n",
              "      border-color: transparent;\n",
              "      border-bottom-color: var(--fill-color);\n",
              "      border-left-color: var(--fill-color);\n",
              "    }\n",
              "    20% {\n",
              "      border-color: transparent;\n",
              "      border-left-color: var(--fill-color);\n",
              "      border-top-color: var(--fill-color);\n",
              "    }\n",
              "    30% {\n",
              "      border-color: transparent;\n",
              "      border-left-color: var(--fill-color);\n",
              "      border-top-color: var(--fill-color);\n",
              "      border-right-color: var(--fill-color);\n",
              "    }\n",
              "    40% {\n",
              "      border-color: transparent;\n",
              "      border-right-color: var(--fill-color);\n",
              "      border-top-color: var(--fill-color);\n",
              "    }\n",
              "    60% {\n",
              "      border-color: transparent;\n",
              "      border-right-color: var(--fill-color);\n",
              "    }\n",
              "    80% {\n",
              "      border-color: transparent;\n",
              "      border-right-color: var(--fill-color);\n",
              "      border-bottom-color: var(--fill-color);\n",
              "    }\n",
              "    90% {\n",
              "      border-color: transparent;\n",
              "      border-bottom-color: var(--fill-color);\n",
              "    }\n",
              "  }\n",
              "</style>\n",
              "\n",
              "  <script>\n",
              "    async function quickchart(key) {\n",
              "      const quickchartButtonEl =\n",
              "        document.querySelector('#' + key + ' button');\n",
              "      quickchartButtonEl.disabled = true;  // To prevent multiple clicks.\n",
              "      quickchartButtonEl.classList.add('colab-df-spinner');\n",
              "      try {\n",
              "        const charts = await google.colab.kernel.invokeFunction(\n",
              "            'suggestCharts', [key], {});\n",
              "      } catch (error) {\n",
              "        console.error('Error during call to suggestCharts:', error);\n",
              "      }\n",
              "      quickchartButtonEl.classList.remove('colab-df-spinner');\n",
              "      quickchartButtonEl.classList.add('colab-df-quickchart-complete');\n",
              "    }\n",
              "    (() => {\n",
              "      let quickchartButtonEl =\n",
              "        document.querySelector('#df-40cdd318-9388-4a81-a6c6-4677f8382d60 button');\n",
              "      quickchartButtonEl.style.display =\n",
              "        google.colab.kernel.accessAllowed ? 'block' : 'none';\n",
              "    })();\n",
              "  </script>\n",
              "</div>\n",
              "    </div>\n",
              "  </div>\n"
            ],
            "application/vnd.google.colaboratory.intrinsic+json": {
              "type": "dataframe",
              "summary": "{\n  \"name\": \"cources[~((cources['18_group'] > 0) & (cources['17_group'] > 0))]\",\n  \"rows\": 24,\n  \"fields\": [\n    {\n      \"column\": \"17_group\",\n      \"properties\": {\n        \"dtype\": \"number\",\n        \"std\": 31.21242668730108,\n        \"min\": 0.0,\n        \"max\": 87.0,\n        \"num_unique_values\": 14,\n        \"samples\": [\n          75.0,\n          26.0,\n          87.0\n        ],\n        \"semantic_type\": \"\",\n        \"description\": \"\"\n      }\n    },\n    {\n      \"column\": \"18_group\",\n      \"properties\": {\n        \"dtype\": \"number\",\n        \"std\": 57.73476020762435,\n        \"min\": 0.0,\n        \"max\": 213.0,\n        \"num_unique_values\": 12,\n        \"samples\": [\n          55.0,\n          60.0,\n          0.0\n        ],\n        \"semantic_type\": \"\",\n        \"description\": \"\"\n      }\n    }\n  ]\n}"
            }
          },
          "metadata": {},
          "execution_count": 1864
        }
      ],
      "source": [
        "cources[~((cources['18_group'] > 0) & (cources['17_group'] > 0))]"
      ]
    },
    {
      "cell_type": "markdown",
      "metadata": {
        "id": "uL45Tg5fhLu1"
      },
      "source": [
        "### Визуализации и matplotlib"
      ]
    },
    {
      "cell_type": "markdown",
      "metadata": {
        "id": "MY9lKmP2hLu1"
      },
      "source": [
        "При работе с данными часто неудобно делать какие-то выводы, если смотреть на таблицу и числа в частности, поэтому важно уметь визуализировать данные. Здесь будут описаны ключевые правила оформления графиков для **всех** домашних заданий.\n",
        "\n",
        "У matplotlib, конечно же, есть [документация](https://matplotlib.org/users/index.html) с большим количеством [примеров](https://matplotlib.org/examples/), но для начала достаточно знать про несколько основных типов графиков:\n",
        "- plot — обычный поточечный график, которым можно изображать кривые или отдельные точки;\n",
        "- hist — гистограмма, показывающая распределение некоторой величины;\n",
        "- scatter — график, показывающий взаимосвязь двух величин;\n",
        "- bar — столбцовый график, показывающий взаимосвязь количественной величины от категориальной.\n",
        "\n",
        "В этом задании вы попробуете построить один из них. Не забывайте про базовые принципы построения приличных графиков:\n",
        "- оси должны быть подписаны, причём не слишком мелко;\n",
        "- у графика должно быть название;\n",
        "- если изображено несколько графиков, то необходима поясняющая легенда;\n",
        "- все линии на графиках должны быть чётко видны (нет похожих цветов или цветов, сливающихся с фоном);\n",
        "- если отображена величина, имеющая очевидный диапазон значений (например, проценты могут быть от 0 до 100), то желательно масштабировать ось на весь диапазон значений (исключением является случай, когда вам необходимо показать малое отличие, которое незаметно в таких масштабах);\n",
        "- сетка на графике помогает оценить значения в точках на глаз, это обычно полезно, поэтому лучше ее отрисовывать;\n",
        "- если распределение на гистограмме имеет тяжёлые хвосты, лучше использовать логарифмическую шкалу.\n",
        "\n",
        "Еще одна билиотека для визуализации: [seaborn](https://jakevdp.github.io/PythonDataScienceHandbook/04.14-visualization-with-seaborn.html) (обычно сокращается до sns). Это настройка над matplotlib, иногда удобнее и красивее делать визуализации через неё.\n",
        "\n",
        "**5 пунктов после которых ваши графики не будут прежними:**\n",
        "- для красивой картинки <code>%config InlineBackend.figure_format = 'retina'</code>\n",
        "- задаем размер (почти) всех графиков (можно выбрать другие значения) <code>plt.rcParams['figure.figsize'] = 8, 5</code>\n",
        "- размер шрифта подписей графиков <code>plt.rcParams['font.size'] = 12</code>\n",
        "- формат в котором сохраняется изображение <code>mpl.rcParams['savefig.format'] = 'pdf'</code>\n",
        "- sns – seaborn, добавляет решетку <code>sns.set_style('darkgrid')</code>\n",
        "\n",
        "Добавьте эти функции в ячейку ниже. Каждый график все равно придется настраивать отдельно, но указанные строчки позволят значительно упростить процесс.  "
      ]
    },
    {
      "cell_type": "code",
      "execution_count": 1865,
      "metadata": {
        "id": "na9doUOFhLu1"
      },
      "outputs": [],
      "source": [
        "%matplotlib inline\n",
        "%config InlineBackend.figure_format = 'retina'\n",
        "import matplotlib as mpl\n",
        "import matplotlib.pyplot as plt\n",
        "import seaborn as sns\n",
        "\n",
        "plt.rcParams['figure.figsize'] = 8, 5\n",
        "plt.rcParams['font.size'] = 12\n",
        "mpl.rcParams['savefig.format'] = 'pdf'\n",
        "sns.set_style('darkgrid')"
      ]
    },
    {
      "cell_type": "markdown",
      "metadata": {
        "id": "kikwLpxfhLu1"
      },
      "source": [
        "#### 7. [0.5 балла] Постройте график средних рейтингов по дням получения ответов (bar plot)."
      ]
    },
    {
      "cell_type": "code",
      "execution_count": 1866,
      "metadata": {
        "id": "UTPLVeQvhLu2",
        "colab": {
          "base_uri": "https://localhost:8080/",
          "height": 609
        },
        "outputId": "d9e17695-0d0f-4cee-8e10-15c37be7c50b"
      },
      "outputs": [
        {
          "output_type": "display_data",
          "data": {
            "text/plain": [
              "<Figure size 900x600 with 1 Axes>"
            ],
            "image/png": "[encoded data removed]"
          },
          "metadata": {
            "image/png": {
              "width": 894,
              "height": 592
            }
          }
        }
      ],
      "source": [
        "fig = plt.figure(figsize = (9, 6))\n",
        "plt.plot(df.resample(rule = '1d', on = 'timestamp', origin = 'start_day')['rating'].mean().dropna())\n",
        "\n",
        "# В один из дней заявок не приходит, пропускаем этот день на графике\n",
        "\n",
        "plt.title('Зависимость среднего рейтинга студента от даты подачи его ответа', fontsize = 17)\n",
        "plt.xlabel('Дата ответа')\n",
        "plt.ylabel('Средний рейтинг')\n",
        "\n",
        "\n",
        "plt.xticks(ticks = pd.date_range(start = '2020-05-14', periods = 11), rotation=30, fontsize = 10)\n",
        "\n",
        "plt.show()\n"
      ]
    },
    {
      "cell_type": "markdown",
      "metadata": {
        "id": "AmsQg9_xhLu2"
      },
      "source": [
        "Сохраните график в формате pdf (так он останется векторизованным)."
      ]
    },
    {
      "cell_type": "code",
      "execution_count": 1867,
      "metadata": {
        "id": "vKZNSwWghLu2"
      },
      "outputs": [],
      "source": [
        "fig.tight_layout()\n",
        "fig.savefig('rate_date.pdf')"
      ]
    },
    {
      "cell_type": "markdown",
      "metadata": {
        "id": "sCgWwjl0hLu2"
      },
      "source": [
        "### 2. Распределение студентов по курсам."
      ]
    },
    {
      "cell_type": "markdown",
      "metadata": {
        "id": "6rjOnzRN8A8l"
      },
      "source": [
        "<span style=\"color:red\">!!!ВНИМАТЕЛЬНО ИЗУЧИТЕ ТЕКСТ НИЖЕ!!!</span>.\n",
        "\n",
        "<span style=\"color:orange\">Если во время выполнения заданий у вас вознинут вопросы -- еще раз перечитайте текст целиком, скорее всего ответы уже содержатся в нем.</span>"
      ]
    },
    {
      "cell_type": "markdown",
      "metadata": {
        "id": "VNqXUpr4hLu3"
      },
      "source": [
        "Теперь вам нужно распределить студентов по осенним курсам по выбору, учитывая их предпочтения."
      ]
    },
    {
      "cell_type": "markdown",
      "metadata": {
        "id": "5cAR2FgphLu3"
      },
      "source": [
        "## 📌 **Алгоритм распределения студентов по курсам**:\n",
        "1. По умолчанию на каждой дисциплине по выбору у 3 и 4 курсов может учиться 1 группа (до 30 студентов). Исключения описаны ниже. На blended-дисциплинах для четверокурсников количество мест не ограничено.\n",
        "2. Проводится первая волна отбора. Для каждой дисциплины формируется список тех, кто указал её первым приоритетом (если студент должен выбрать два курса по выбору, то для него дисциплины, которые он указал первым и вторым приоритетом, рассматриваются как дисциплины первого приоритета). Если желающих больше, чем мест, то выбирается топ по перцентилю рейтинга.\n",
        "3. На дисциплинах, где остались места после первой волны, формируются списки тех, кто выбрал их вторым приоритетом, и места заполняются лучшими по перцентили рейтинга студентами. После этого проводится такая же процедура для дисциплин третьего приоритета.\n",
        "4. Если студент не попал на необходимое количество курсов по итогам трёх волн, с ним связывается учебный офис и решает вопрос в индивидуальном порядке."
      ]
    },
    {
      "cell_type": "markdown",
      "metadata": {
        "id": "BiNKVwS6hLu3"
      },
      "source": [
        "## ☝️ **Обращаем ваше внимание на следующие детали:**\n",
        "- Конкурс на каждый курс общий для 3-го и 4-го курса\n",
        "\n",
        "- По умолчанию студент выбирает один осенний и один весенний курс по выбору, а также четверокурсники выбирают один blended-курс. Студенты групп 17-го года специализаций МОП и ТИ выбирают по 2 осенних и 2 весенних курса по выбору, также студенты групп 18' специализации МИ выбирают 2 осенних курса. <i>Для студентов, которые выбирают 2 курса (например, осенних) первый приоритет — <code>fall_1</code> и <code>fall_2</code>, второй приоритет — <code>fall_3</code>. Такие студенты участвуют только в двух волнах отбора</i>.\n",
        "\n",
        "- Студенты специализации МОП не могут выбрать весенним курсом по выбору Машинное обучение 2. **Если студент специализации МОП выбрал Машинное обучение 2, то его приоритеты сдвигаются.** Из-за совпадений первого и второго курса по выбору двигать приоритеты не надо.\n",
        "\n",
        "- Blended-курсы не трогайте, по ним не надо распределять, на другие курсы они никак не влияют.\n",
        "\n",
        "- Заведомо известно, что в процессе распределения не возникнет ситуации, когда на одно место претендуют студенты с одинаковым перцентилем.\n",
        "\n",
        "- Постарайтесь воздержаться от использования циклов там, где это возможно. <i>Допустимо итерироваться по <b>курсам</b>, на которые проводится отбор, и по <b>волнам</b> отбора. Если вы придумаете, как обойтись и без этих циклов, то на усмотрение проверяющего могут быть добавлены бонусные баллы. <b>Дублирование кода не признается успешным избавлением от циклов</b></i>\n",
        "\n",
        "- На выходе ожидается файл res_fall.csv с результатами распределения на осенние курсы по выбору. Файл должен быть следующего формата:\n",
        "\n",
        "    * Три колонки: ID, course1, course2\n",
        "    \n",
        "    * Если студент не попал на курс, но должен был, то вместо названия курса в ячейке должна быть строка \"???\"\n",
        "    \n",
        "    * Если студент должен выбрать только один курс, то в колонке course2 для него должна стоять строка \"-\"\n",
        "    \n",
        "    * Если студент должен выбрать два курса по выбору, то порядок в колонках course1 и course2 не важен.\n",
        "    \n",
        "    * hint: для сохранения воспользуйтесь `df.to_csv('solution.csv', index=None)`\n",
        "    \n",
        "\n",
        "Для работы вам могут понадобиться следующие данные:\n",
        "\n",
        "- Результаты опроса (вы уже использовали этот файл в первой части задания, но на всякий случай ссылка: https://www.dropbox.com/s/f4rm8sjc3v99p0m/_end_seminar.xlsx?dl=0)\n",
        "\n",
        "- Соответствие номеров групп специализациям:\n",
        "\n",
        "    * 171, 172 - МОП; 173 - ТИ; 174 — АДИС; 175, 176 — РС; 177 — АПР\n",
        "    \n",
        "    * У студентов 18-го года номера групп соответствуют номерам до распределения по специализациям. Это означает, что по номеру группы 18* нельзя однозначно определить специализацию студента. При этом в рамках распределения важно знать информацию только о двух из них: МОП и МИ. Эти знание можно получить из колонок 'is_ml_student\n",
        "' и 'is_mi' соответственно.\n",
        "\n",
        "- Ограничения по количеству мест на курсах по выбору:\n",
        "\n",
        "    * Осенние: везде 30 мест, кроме Statistical Learning Theory (60 мест), Высокопроизводительных вычислений (60 мест), Анализа неструктурированных данных ($\\infty$ мест)\n",
        "\n",
        "    * Весенние: везде 30 мест, кроме Обучения с подкреплением (60 мест), Анализа данных в бизнесе (60 мест).\n",
        "\n",
        "\n",
        "Кстати, убедитесь, что в данных больше нет пропусков и повторных записей."
      ]
    },
    {
      "cell_type": "markdown",
      "metadata": {
        "id": "o5t55IcQhLu4"
      },
      "source": [
        "#### 0. Проверка\n",
        "\n",
        "Для начала давайте убедимся, что вы успешно выполнили задания первой части и проверим ваши данные на наличие пропусков и повторов:"
      ]
    },
    {
      "cell_type": "code",
      "execution_count": 1868,
      "metadata": {
        "id": "34HWEdVdhLu4"
      },
      "outputs": [],
      "source": [
        "assert df.shape[0] == 347, 'В таблице остались повторы или потеряны данные'\n",
        "\n",
        "assert df.isna().sum().sum() == 0, 'В таблице остались пропуски'"
      ]
    },
    {
      "cell_type": "markdown",
      "metadata": {
        "id": "_ImUFyG3hLu4"
      },
      "source": [
        "Если вы не получили AssertionError, то можете продолжать."
      ]
    },
    {
      "cell_type": "markdown",
      "metadata": {
        "id": "LTGSwwvAhLu4"
      },
      "source": [
        "#### 1. [1 балл] Создайте новый признак, обозначающий, сколько осенних курсов должен выбрать студент\n",
        "\n",
        "В этом вам может помочь информация о специализации и группе стундента."
      ]
    },
    {
      "cell_type": "code",
      "execution_count": 1869,
      "metadata": {
        "id": "ouxo0kHFhLu4"
      },
      "outputs": [],
      "source": [
        "df['num_of_courses'] = 1\n",
        "df.loc[(df['17_group'] == 171) | (df['17_group'] == 172) | (df['17_group'] == 173), 'num_of_courses'] = 2\n",
        "df.loc[(df['18_group'] != 0)&(df['is_mi'] == 1), 'num_of_courses'] = 2"
      ]
    },
    {
      "cell_type": "markdown",
      "metadata": {
        "id": "S47aq1sQhLu4"
      },
      "source": [
        "Проверка:"
      ]
    },
    {
      "cell_type": "code",
      "execution_count": 1870,
      "metadata": {
        "id": "OlOgzDKDhLu5"
      },
      "outputs": [],
      "source": [
        "col_name = 'num_of_courses'\n",
        "\n",
        "assert(df[df['id'] == '2662600c2c37e11e62f6ee0b88452f22'][col_name] == 2).all()\n",
        "assert(df[df['id'] == 'd555d2805e1d93d4f023e57dc4c8f403'][col_name] == 2).all()\n",
        "assert(df[df['id'] == '8fe79f84f36e3a5d2d6745621321302c'][col_name] == 1).all()\n",
        "assert(df[df['id'] == 'e4caca755ee0bdd711e18fb8084958b5'][col_name] == 1).all()"
      ]
    },
    {
      "cell_type": "markdown",
      "metadata": {
        "id": "VtQYhwuPhLu5"
      },
      "source": [
        "#### 2. [2 балла] Распределите студентов в соответствии с первым приоритетом"
      ]
    },
    {
      "cell_type": "code",
      "execution_count": 1871,
      "metadata": {
        "id": "6gWfT3vqhLu5"
      },
      "outputs": [],
      "source": [
        "df['course1'] = ''\n",
        "df['course2'] = ''\n",
        "course_names = pd.concat([df['fall_1'], df['fall_2'], df['fall_3']]).unique()\n",
        "courses = {}\n",
        "for i in course_names:\n",
        "  courses[i] = 30\n",
        "courses[\"Statistical Learning Theory\"] = 60\n",
        "courses[\"Высокопроизводительные вычисления\"] = 60\n",
        "courses[\"Анализ неструктурированных данных\"] = df.shape[0] + 1\n",
        "\n",
        "\n",
        "for i in course_names:\n",
        "  ind = df[(df['fall_1'] == i) | ((df['num_of_courses'] == 2)&(df['fall_2'] == i))].nsmallest(courses[i], 'percentile').index\n",
        "  courses[i] -= len(ind)\n",
        "\n",
        "  df.loc[(df.index.isin(ind))&(df['course1'] != ''), 'course2'] = i\n",
        "  df.loc[(df.index.isin(ind))&(df['course1'] == ''), 'course1'] = i\n",
        "  df.loc[ind[0], 'is_first_place'] = True\n",
        "  df.loc[ind[-1], 'is_last_place'] = True"
      ]
    },
    {
      "cell_type": "markdown",
      "metadata": {
        "id": "vc5zXP5hhLu5"
      },
      "source": [
        "Здесь для проверки приведена таблица, в которой есть 2 дополнительные колонки:\n",
        "    \n",
        "    1) is_first_place - является ли студент лучшим по перцентили хотя бы на одном из курсов, куда он был зачислен\n",
        "    (True / NaN)\n",
        "    \n",
        "    2) is_last_place  - является ли студент худшим по перцентили хотя бы на одном из курсов, куда он был зачислен (True / NaN)"
      ]
    },
    {
      "cell_type": "code",
      "execution_count": 1872,
      "metadata": {
        "id": "uZTkGEq5hLu5"
      },
      "outputs": [],
      "source": [
        "!wget  -O '2_task_check.csv' -q 'https://www.dropbox.com/s/v8o2zzq3iz5gc9w/_2_task_check.csv?dl=0'\n",
        "check_df = pd.read_csv('2_task_check.csv')"
      ]
    },
    {
      "cell_type": "markdown",
      "metadata": {
        "id": "E_fbyB9qhLu5"
      },
      "source": [
        "После распределения студентов в соответствии с первым приоритетом добавьте в свой датафрейм аналогичные признаки и запустите проверку:"
      ]
    },
    {
      "cell_type": "code",
      "execution_count": 1873,
      "metadata": {
        "id": "GOAzQeYehLu6"
      },
      "outputs": [],
      "source": [
        "fir_col_name =       'is_first_place'\n",
        "last_col_name =      'is_last_place'\n",
        "\n",
        "\n",
        "assert((df[df[fir_col_name].isna() == False][['id']].sort_values('id').reset_index(drop=True)\n",
        "        ==\n",
        "        check_df[check_df['is_first_place'].isna() == False][['id']].sort_values('id').reset_index(drop=True)\n",
        "       ).id.values).all()\n",
        "\n",
        "\n",
        "assert((df[df[last_col_name].isna() == False][['id']].sort_values('id').reset_index(drop=True)\n",
        "       ==\n",
        "       check_df[check_df['is_last_place'].isna() == False][['id']].sort_values('id').reset_index(drop=True)\n",
        "      ).id.values).all()"
      ]
    },
    {
      "cell_type": "markdown",
      "metadata": {
        "id": "RO6DwNNFhLu6"
      },
      "source": [
        "#### 3. [2 балла] Проведите все три волны отбора студентов на курсы по выбору"
      ]
    },
    {
      "cell_type": "code",
      "execution_count": 1874,
      "metadata": {
        "id": "jn2OOrLjhLu6",
        "colab": {
          "base_uri": "https://localhost:8080/",
          "height": 513
        },
        "outputId": "4dfce6bb-2387-4fdd-cc3a-9bd7ee6633c3"
      },
      "outputs": [
        {
          "output_type": "stream",
          "name": "stderr",
          "text": [
            "<ipython-input-1874-1e4861a8c7ea>:21: SettingWithCopyWarning: \n",
            "A value is trying to be set on a copy of a slice from a DataFrame\n",
            "\n",
            "See the caveats in the documentation: https://pandas.pydata.org/pandas-docs/stable/user_guide/indexing.html#returning-a-view-versus-a-copy\n",
            "  res.rename(columns={\"id\":\"ID\"}, inplace = True)\n"
          ]
        },
        {
          "output_type": "execute_result",
          "data": {
            "text/plain": [
              "                                   ID  \\\n",
              "223  d555d2805e1d93d4f023e57dc4c8f403   \n",
              "224  253bbe1a2021d0404712a1e4acd22939   \n",
              "225  881b1a6fda195b354ae2edb396a69f5d   \n",
              "226  5a9b8ac11ad05b39a58b0e04a263bf4c   \n",
              "227  1bbbfae51794b83c769b634be8da7b8d   \n",
              "..                                ...   \n",
              "220  1341f488fae5f1ccf164960fd6506cd0   \n",
              "360  f2d210ace25a841e1e58036b257d5d47   \n",
              "359  79d14db48e4737af731960ae212d5134   \n",
              "221  04bcb5c9d23813ffa940e1febb27fadc   \n",
              "222  9d19b0d5f4fc8d7edc2258406f872c4e   \n",
              "\n",
              "                                               course1  \\\n",
              "223               Глубинное обучение в обработке звука   \n",
              "224                        Statistical Learning Theory   \n",
              "225                  Анализ неструктурированных данных   \n",
              "226               Глубинное обучение в обработке звука   \n",
              "227                  Анализ неструктурированных данных   \n",
              "..                                                 ...   \n",
              "220                                           Язык SQL   \n",
              "360                  Анализ неструктурированных данных   \n",
              "359  Принятие решений в условиях риска и неопределё...   \n",
              "221                                  Теория баз данных   \n",
              "222                   Безопасность компьютерных систем   \n",
              "\n",
              "                                   course2  \n",
              "223  Байесовские методы машинного обучения  \n",
              "224                                      -  \n",
              "225   Глубинное обучение в обработке звука  \n",
              "226            Statistical Learning Theory  \n",
              "227                                      -  \n",
              "..                                     ...  \n",
              "220                                      -  \n",
              "360                                      -  \n",
              "359      Анализ неструктурированных данных  \n",
              "221                                      -  \n",
              "222                                      -  \n",
              "\n",
              "[347 rows x 3 columns]"
            ],
            "text/html": [
              "\n",
              "  <div id=\"df-81a050b6-41b7-4eac-8b38-ab838c535eab\" class=\"colab-df-container\">\n",
              "    <div>\n",
              "<style scoped>\n",
              "    .dataframe tbody tr th:only-of-type {\n",
              "        vertical-align: middle;\n",
              "    }\n",
              "\n",
              "    .dataframe tbody tr th {\n",
              "        vertical-align: top;\n",
              "    }\n",
              "\n",
              "    .dataframe thead th {\n",
              "        text-align: right;\n",
              "    }\n",
              "</style>\n",
              "<table border=\"1\" class=\"dataframe\">\n",
              "  <thead>\n",
              "    <tr style=\"text-align: right;\">\n",
              "      <th></th>\n",
              "      <th>ID</th>\n",
              "      <th>course1</th>\n",
              "      <th>course2</th>\n",
              "    </tr>\n",
              "  </thead>\n",
              "  <tbody>\n",
              "    <tr>\n",
              "      <th>223</th>\n",
              "      <td>d555d2805e1d93d4f023e57dc4c8f403</td>\n",
              "      <td>Глубинное обучение в обработке звука</td>\n",
              "      <td>Байесовские методы машинного обучения</td>\n",
              "    </tr>\n",
              "    <tr>\n",
              "      <th>224</th>\n",
              "      <td>253bbe1a2021d0404712a1e4acd22939</td>\n",
              "      <td>Statistical Learning Theory</td>\n",
              "      <td>-</td>\n",
              "    </tr>\n",
              "    <tr>\n",
              "      <th>225</th>\n",
              "      <td>881b1a6fda195b354ae2edb396a69f5d</td>\n",
              "      <td>Анализ неструктурированных данных</td>\n",
              "      <td>Глубинное обучение в обработке звука</td>\n",
              "    </tr>\n",
              "    <tr>\n",
              "      <th>226</th>\n",
              "      <td>5a9b8ac11ad05b39a58b0e04a263bf4c</td>\n",
              "      <td>Глубинное обучение в обработке звука</td>\n",
              "      <td>Statistical Learning Theory</td>\n",
              "    </tr>\n",
              "    <tr>\n",
              "      <th>227</th>\n",
              "      <td>1bbbfae51794b83c769b634be8da7b8d</td>\n",
              "      <td>Анализ неструктурированных данных</td>\n",
              "      <td>-</td>\n",
              "    </tr>\n",
              "    <tr>\n",
              "      <th>...</th>\n",
              "      <td>...</td>\n",
              "      <td>...</td>\n",
              "      <td>...</td>\n",
              "    </tr>\n",
              "    <tr>\n",
              "      <th>220</th>\n",
              "      <td>1341f488fae5f1ccf164960fd6506cd0</td>\n",
              "      <td>Язык SQL</td>\n",
              "      <td>-</td>\n",
              "    </tr>\n",
              "    <tr>\n",
              "      <th>360</th>\n",
              "      <td>f2d210ace25a841e1e58036b257d5d47</td>\n",
              "      <td>Анализ неструктурированных данных</td>\n",
              "      <td>-</td>\n",
              "    </tr>\n",
              "    <tr>\n",
              "      <th>359</th>\n",
              "      <td>79d14db48e4737af731960ae212d5134</td>\n",
              "      <td>Принятие решений в условиях риска и неопределё...</td>\n",
              "      <td>Анализ неструктурированных данных</td>\n",
              "    </tr>\n",
              "    <tr>\n",
              "      <th>221</th>\n",
              "      <td>04bcb5c9d23813ffa940e1febb27fadc</td>\n",
              "      <td>Теория баз данных</td>\n",
              "      <td>-</td>\n",
              "    </tr>\n",
              "    <tr>\n",
              "      <th>222</th>\n",
              "      <td>9d19b0d5f4fc8d7edc2258406f872c4e</td>\n",
              "      <td>Безопасность компьютерных систем</td>\n",
              "      <td>-</td>\n",
              "    </tr>\n",
              "  </tbody>\n",
              "</table>\n",
              "<p>347 rows × 3 columns</p>\n",
              "</div>\n",
              "    <div class=\"colab-df-buttons\">\n",
              "\n",
              "  <div class=\"colab-df-container\">\n",
              "    <button class=\"colab-df-convert\" onclick=\"convertToInteractive('df-81a050b6-41b7-4eac-8b38-ab838c535eab')\"\n",
              "            title=\"Convert this dataframe to an interactive table.\"\n",
              "            style=\"display:none;\">\n",
              "\n",
              "  <svg xmlns=\"http://www.w3.org/2000/svg\" height=\"24px\" viewBox=\"0 -960 960 960\">\n",
              "    <path d=\"M120-120v-720h720v720H120Zm60-500h600v-160H180v160Zm220 220h160v-160H400v160Zm0 220h160v-160H400v160ZM180-400h160v-160H180v160Zm440 0h160v-160H620v160ZM180-180h160v-160H180v160Zm440 0h160v-160H620v160Z\"/>\n",
              "  </svg>\n",
              "    </button>\n",
              "\n",
              "  <style>\n",
              "    .colab-df-container {\n",
              "      display:flex;\n",
              "      gap: 12px;\n",
              "    }\n",
              "\n",
              "    .colab-df-convert {\n",
              "      background-color: #E8F0FE;\n",
              "      border: none;\n",
              "      border-radius: 50%;\n",
              "      cursor: pointer;\n",
              "      display: none;\n",
              "      fill: #1967D2;\n",
              "      height: 32px;\n",
              "      padding: 0 0 0 0;\n",
              "      width: 32px;\n",
              "    }\n",
              "\n",
              "    .colab-df-convert:hover {\n",
              "      background-color: #E2EBFA;\n",
              "      box-shadow: 0px 1px 2px rgba(60, 64, 67, 0.3), 0px 1px 3px 1px rgba(60, 64, 67, 0.15);\n",
              "      fill: #174EA6;\n",
              "    }\n",
              "\n",
              "    .colab-df-buttons div {\n",
              "      margin-bottom: 4px;\n",
              "    }\n",
              "\n",
              "    [theme=dark] .colab-df-convert {\n",
              "      background-color: #3B4455;\n",
              "      fill: #D2E3FC;\n",
              "    }\n",
              "\n",
              "    [theme=dark] .colab-df-convert:hover {\n",
              "      background-color: #434B5C;\n",
              "      box-shadow: 0px 1px 3px 1px rgba(0, 0, 0, 0.15);\n",
              "      filter: drop-shadow(0px 1px 2px rgba(0, 0, 0, 0.3));\n",
              "      fill: #FFFFFF;\n",
              "    }\n",
              "  </style>\n",
              "\n",
              "    <script>\n",
              "      const buttonEl =\n",
              "        document.querySelector('#df-81a050b6-41b7-4eac-8b38-ab838c535eab button.colab-df-convert');\n",
              "      buttonEl.style.display =\n",
              "        google.colab.kernel.accessAllowed ? 'block' : 'none';\n",
              "\n",
              "      async function convertToInteractive(key) {\n",
              "        const element = document.querySelector('#df-81a050b6-41b7-4eac-8b38-ab838c535eab');\n",
              "        const dataTable =\n",
              "          await google.colab.kernel.invokeFunction('convertToInteractive',\n",
              "                                                    [key], {});\n",
              "        if (!dataTable) return;\n",
              "\n",
              "        const docLinkHtml = 'Like what you see? Visit the ' +\n",
              "          '<a target=\"_blank\" href=https://colab.research.google.com/notebooks/data_table.ipynb>data table notebook</a>'\n",
              "          + ' to learn more about interactive tables.';\n",
              "        element.innerHTML = '';\n",
              "        dataTable['output_type'] = 'display_data';\n",
              "        await google.colab.output.renderOutput(dataTable, element);\n",
              "        const docLink = document.createElement('div');\n",
              "        docLink.innerHTML = docLinkHtml;\n",
              "        element.appendChild(docLink);\n",
              "      }\n",
              "    </script>\n",
              "  </div>\n",
              "\n",
              "\n",
              "<div id=\"df-34719984-3cac-4d24-81fb-eac3c6056a61\">\n",
              "  <button class=\"colab-df-quickchart\" onclick=\"quickchart('df-34719984-3cac-4d24-81fb-eac3c6056a61')\"\n",
              "            title=\"Suggest charts\"\n",
              "            style=\"display:none;\">\n",
              "\n",
              "<svg xmlns=\"http://www.w3.org/2000/svg\" height=\"24px\"viewBox=\"0 0 24 24\"\n",
              "     width=\"24px\">\n",
              "    <g>\n",
              "        <path d=\"M19 3H5c-1.1 0-2 .9-2 2v14c0 1.1.9 2 2 2h14c1.1 0 2-.9 2-2V5c0-1.1-.9-2-2-2zM9 17H7v-7h2v7zm4 0h-2V7h2v10zm4 0h-2v-4h2v4z\"/>\n",
              "    </g>\n",
              "</svg>\n",
              "  </button>\n",
              "\n",
              "<style>\n",
              "  .colab-df-quickchart {\n",
              "      --bg-color: #E8F0FE;\n",
              "      --fill-color: #1967D2;\n",
              "      --hover-bg-color: #E2EBFA;\n",
              "      --hover-fill-color: #174EA6;\n",
              "      --disabled-fill-color: #AAA;\n",
              "      --disabled-bg-color: #DDD;\n",
              "  }\n",
              "\n",
              "  [theme=dark] .colab-df-quickchart {\n",
              "      --bg-color: #3B4455;\n",
              "      --fill-color: #D2E3FC;\n",
              "      --hover-bg-color: #434B5C;\n",
              "      --hover-fill-color: #FFFFFF;\n",
              "      --disabled-bg-color: #3B4455;\n",
              "      --disabled-fill-color: #666;\n",
              "  }\n",
              "\n",
              "  .colab-df-quickchart {\n",
              "    background-color: var(--bg-color);\n",
              "    border: none;\n",
              "    border-radius: 50%;\n",
              "    cursor: pointer;\n",
              "    display: none;\n",
              "    fill: var(--fill-color);\n",
              "    height: 32px;\n",
              "    padding: 0;\n",
              "    width: 32px;\n",
              "  }\n",
              "\n",
              "  .colab-df-quickchart:hover {\n",
              "    background-color: var(--hover-bg-color);\n",
              "    box-shadow: 0 1px 2px rgba(60, 64, 67, 0.3), 0 1px 3px 1px rgba(60, 64, 67, 0.15);\n",
              "    fill: var(--button-hover-fill-color);\n",
              "  }\n",
              "\n",
              "  .colab-df-quickchart-complete:disabled,\n",
              "  .colab-df-quickchart-complete:disabled:hover {\n",
              "    background-color: var(--disabled-bg-color);\n",
              "    fill: var(--disabled-fill-color);\n",
              "    box-shadow: none;\n",
              "  }\n",
              "\n",
              "  .colab-df-spinner {\n",
              "    border: 2px solid var(--fill-color);\n",
              "    border-color: transparent;\n",
              "    border-bottom-color: var(--fill-color);\n",
              "    animation:\n",
              "      spin 1s steps(1) infinite;\n",
              "  }\n",
              "\n",
              "  @keyframes spin {\n",
              "    0% {\n",
              "      border-color: transparent;\n",
              "      border-bottom-color: var(--fill-color);\n",
              "      border-left-color: var(--fill-color);\n",
              "    }\n",
              "    20% {\n",
              "      border-color: transparent;\n",
              "      border-left-color: var(--fill-color);\n",
              "      border-top-color: var(--fill-color);\n",
              "    }\n",
              "    30% {\n",
              "      border-color: transparent;\n",
              "      border-left-color: var(--fill-color);\n",
              "      border-top-color: var(--fill-color);\n",
              "      border-right-color: var(--fill-color);\n",
              "    }\n",
              "    40% {\n",
              "      border-color: transparent;\n",
              "      border-right-color: var(--fill-color);\n",
              "      border-top-color: var(--fill-color);\n",
              "    }\n",
              "    60% {\n",
              "      border-color: transparent;\n",
              "      border-right-color: var(--fill-color);\n",
              "    }\n",
              "    80% {\n",
              "      border-color: transparent;\n",
              "      border-right-color: var(--fill-color);\n",
              "      border-bottom-color: var(--fill-color);\n",
              "    }\n",
              "    90% {\n",
              "      border-color: transparent;\n",
              "      border-bottom-color: var(--fill-color);\n",
              "    }\n",
              "  }\n",
              "</style>\n",
              "\n",
              "  <script>\n",
              "    async function quickchart(key) {\n",
              "      const quickchartButtonEl =\n",
              "        document.querySelector('#' + key + ' button');\n",
              "      quickchartButtonEl.disabled = true;  // To prevent multiple clicks.\n",
              "      quickchartButtonEl.classList.add('colab-df-spinner');\n",
              "      try {\n",
              "        const charts = await google.colab.kernel.invokeFunction(\n",
              "            'suggestCharts', [key], {});\n",
              "      } catch (error) {\n",
              "        console.error('Error during call to suggestCharts:', error);\n",
              "      }\n",
              "      quickchartButtonEl.classList.remove('colab-df-spinner');\n",
              "      quickchartButtonEl.classList.add('colab-df-quickchart-complete');\n",
              "    }\n",
              "    (() => {\n",
              "      let quickchartButtonEl =\n",
              "        document.querySelector('#df-34719984-3cac-4d24-81fb-eac3c6056a61 button');\n",
              "      quickchartButtonEl.style.display =\n",
              "        google.colab.kernel.accessAllowed ? 'block' : 'none';\n",
              "    })();\n",
              "  </script>\n",
              "</div>\n",
              "    </div>\n",
              "  </div>\n"
            ],
            "application/vnd.google.colaboratory.intrinsic+json": {
              "type": "dataframe",
              "variable_name": "res",
              "summary": "{\n  \"name\": \"res\",\n  \"rows\": 347,\n  \"fields\": [\n    {\n      \"column\": \"ID\",\n      \"properties\": {\n        \"dtype\": \"string\",\n        \"num_unique_values\": 347,\n        \"samples\": [\n          \"9963fc00d9405a35b894cc04a7e19855\",\n          \"7fe7df0d207babbf30249b3063ac1f26\",\n          \"efc406545c2b0e958ec89b4c1e4f7a28\"\n        ],\n        \"semantic_type\": \"\",\n        \"description\": \"\"\n      }\n    },\n    {\n      \"column\": \"course1\",\n      \"properties\": {\n        \"dtype\": \"category\",\n        \"num_unique_values\": 13,\n        \"samples\": [\n          \"???\",\n          \"\\u041f\\u0440\\u0438\\u043d\\u044f\\u0442\\u0438\\u0435 \\u0440\\u0435\\u0448\\u0435\\u043d\\u0438\\u0439 \\u0432 \\u0443\\u0441\\u043b\\u043e\\u0432\\u0438\\u044f\\u0445 \\u0440\\u0438\\u0441\\u043a\\u0430 \\u0438 \\u043d\\u0435\\u043e\\u043f\\u0440\\u0435\\u0434\\u0435\\u043b\\u0451\\u043d\\u043d\\u043e\\u0441\\u0442\\u0438\",\n          \"\\u0413\\u043b\\u0443\\u0431\\u0438\\u043d\\u043d\\u043e\\u0435 \\u043e\\u0431\\u0443\\u0447\\u0435\\u043d\\u0438\\u0435 \\u0432 \\u043e\\u0431\\u0440\\u0430\\u0431\\u043e\\u0442\\u043a\\u0435 \\u0437\\u0432\\u0443\\u043a\\u0430\"\n        ],\n        \"semantic_type\": \"\",\n        \"description\": \"\"\n      }\n    },\n    {\n      \"column\": \"course2\",\n      \"properties\": {\n        \"dtype\": \"category\",\n        \"num_unique_values\": 11,\n        \"samples\": [\n          \"\\u0421\\u0431\\u043e\\u0440 \\u0438 \\u043e\\u0431\\u0440\\u0430\\u0431\\u043e\\u0442\\u043a\\u0430 \\u0434\\u0430\\u043d\\u043d\\u044b\\u0445 \\u0441 \\u043f\\u043e\\u043c\\u043e\\u0449\\u044c\\u044e \\u043a\\u0440\\u0430\\u0443\\u0434\\u0441\\u043e\\u0440\\u0441\\u0438\\u043d\\u0433\\u0430\",\n          \"\\u0411\\u0430\\u0439\\u0435\\u0441\\u043e\\u0432\\u0441\\u043a\\u0438\\u0435 \\u043c\\u0435\\u0442\\u043e\\u0434\\u044b \\u043c\\u0430\\u0448\\u0438\\u043d\\u043d\\u043e\\u0433\\u043e \\u043e\\u0431\\u0443\\u0447\\u0435\\u043d\\u0438\\u044f\",\n          \"\\u041f\\u0440\\u0438\\u043d\\u044f\\u0442\\u0438\\u0435 \\u0440\\u0435\\u0448\\u0435\\u043d\\u0438\\u0439 \\u0432 \\u0443\\u0441\\u043b\\u043e\\u0432\\u0438\\u044f\\u0445 \\u0440\\u0438\\u0441\\u043a\\u0430 \\u0438 \\u043d\\u0435\\u043e\\u043f\\u0440\\u0435\\u0434\\u0435\\u043b\\u0451\\u043d\\u043d\\u043e\\u0441\\u0442\\u0438\"\n        ],\n        \"semantic_type\": \"\",\n        \"description\": \"\"\n      }\n    }\n  ]\n}"
            }
          },
          "metadata": {},
          "execution_count": 1874
        }
      ],
      "source": [
        "for i in course_names:\n",
        "  ind = df[(((df['num_of_courses'] == 1)&(df['course1'] == '')&(df['fall_2'] == i)) | \\\n",
        "            ((df['num_of_courses'] == 2)&(df['course2'] == '')&(df['fall_3'] == i)&(df['course1'] != i)))].nsmallest(courses[i], 'percentile').index\n",
        "  courses[i] -= len(ind)\n",
        "\n",
        "  df.loc[(df.index.isin(ind))&(df['course1'] != ''), 'course2'] = i\n",
        "  df.loc[(df.index.isin(ind))&(df['course1'] == ''), 'course1'] = i\n",
        "\n",
        "for i in course_names:\n",
        "  ind = df[(df['course1'] == '') & \\\n",
        "   (df['fall_3'] == i)&(df['num_of_courses'] == 1)].nsmallest(courses[i], 'percentile').index\n",
        "  courses[i] -= len(ind)\n",
        "\n",
        "  df.loc[(df.index.isin(ind)), 'course1'] = i\n",
        "\n",
        "df.loc[(df['num_of_courses'] == 1)&(df['course1'] == ''), 'course1'] = '???'\n",
        "df.loc[(df['num_of_courses'] == 1), 'course2'] = '-'\n",
        "df.loc[(df['num_of_courses'] == 2)&(df['course1'] == ''), 'course1'] = '???'\n",
        "df.loc[(df['num_of_courses'] == 2)&(df['course2'] == ''), 'course2'] = '???'\n",
        "res = df[['id', 'course1', 'course2']]\n",
        "res.rename(columns={\"id\":\"ID\"}, inplace = True)\n",
        "res.to_csv('res_fall.csv', index=None)\n",
        "res"
      ]
    },
    {
      "cell_type": "markdown",
      "metadata": {
        "id": "1xQjV9BuhLu6"
      },
      "source": [
        "**Отправьте свой файл res_fall.csv в контест (будет в ближайшее время, следите за новостями) и прикрепите/укажите ниже ваш никнейм и ссылку на успешную посылку.**"
      ]
    },
    {
      "cell_type": "markdown",
      "source": [
        "Ник: vrbigaev@edu.hse.ru\n",
        "\n",
        "[Посылка](https://contest.yandex.ru/contest/68637/run-report/119568719/)"
      ],
      "metadata": {
        "id": "2EoDTVFZIKyE"
      }
    },
    {
      "cell_type": "markdown",
      "metadata": {
        "id": "QRTbPrgbhLu6"
      },
      "source": [
        "*Дисклеймер:*\n",
        "\n",
        "Успешная посылка в контесте является **обязательным** условием получения полного балла за этот (и следующий) пункт. Если добиться успешной посылки не удастся, баллы будут выставляться на усмотрение проверяюшего.\n",
        "\n",
        "При этом ОК в контесте не гарантирует полный балл. Оценка всё равно может быть снижена в случае обнаружения неэффективностей или ошибок в коде. Если вы сдадите в AnyTask очевидно неработающий код или ноутбук без кода, но при этом в контест будет сдан корректный файл, то это будет расцениваться как плагиат."
      ]
    },
    {
      "cell_type": "markdown",
      "metadata": {
        "id": "1IkQa_gdhLu6"
      },
      "source": [
        "На всякий случай просим вас сдать вместе с ноутбуком файл res_fall.csv в anytask"
      ]
    },
    {
      "cell_type": "markdown",
      "metadata": {
        "id": "k8d711qGhLu7"
      },
      "source": [
        "### 4. [1 балла] Распределите таким же образом студентов еще и на весенние курсы по выбору.\n",
        "\n",
        "Если ваш код был хорошо структурирован, то это не составит проблем.\n",
        "\n",
        "Если вы выполнили это задание, сдайте среди прочего файл res_spring.csv в таком же формате, как и res_fall.csv."
      ]
    },
    {
      "cell_type": "code",
      "execution_count": 1876,
      "metadata": {
        "id": "hwmusOGThLu7",
        "colab": {
          "base_uri": "https://localhost:8080/",
          "height": 187
        },
        "outputId": "4f17785d-2a44-47df-d27d-c21b66770ada"
      },
      "outputs": [
        {
          "output_type": "stream",
          "name": "stderr",
          "text": [
            "<ipython-input-1876-042d790a2e00>:48: SettingWithCopyWarning: \n",
            "A value is trying to be set on a copy of a slice from a DataFrame\n",
            "\n",
            "See the caveats in the documentation: https://pandas.pydata.org/pandas-docs/stable/user_guide/indexing.html#returning-a-view-versus-a-copy\n",
            "  res.rename(columns={\"id\":\"ID\"}, inplace = True)\n"
          ]
        },
        {
          "output_type": "execute_result",
          "data": {
            "text/plain": [
              "     percentile                                     spring_1  \\\n",
              "179    0.345291  Промышленное программирование на языке Java   \n",
              "\n",
              "                                       spring_2  \\\n",
              "179  Дополнительные главы прикладной статистики   \n",
              "\n",
              "                                       spring_3  \\\n",
              "179  Дополнительные главы прикладной статистики   \n",
              "\n",
              "                                         course1  \n",
              "179  Промышленное программирование на языке Java  "
            ],
            "text/html": [
              "\n",
              "  <div id=\"df-f8a820eb-ddba-41a0-ba6d-bef6367e110f\" class=\"colab-df-container\">\n",
              "    <div>\n",
              "<style scoped>\n",
              "    .dataframe tbody tr th:only-of-type {\n",
              "        vertical-align: middle;\n",
              "    }\n",
              "\n",
              "    .dataframe tbody tr th {\n",
              "        vertical-align: top;\n",
              "    }\n",
              "\n",
              "    .dataframe thead th {\n",
              "        text-align: right;\n",
              "    }\n",
              "</style>\n",
              "<table border=\"1\" class=\"dataframe\">\n",
              "  <thead>\n",
              "    <tr style=\"text-align: right;\">\n",
              "      <th></th>\n",
              "      <th>percentile</th>\n",
              "      <th>spring_1</th>\n",
              "      <th>spring_2</th>\n",
              "      <th>spring_3</th>\n",
              "      <th>course1</th>\n",
              "    </tr>\n",
              "  </thead>\n",
              "  <tbody>\n",
              "    <tr>\n",
              "      <th>179</th>\n",
              "      <td>0.345291</td>\n",
              "      <td>Промышленное программирование на языке Java</td>\n",
              "      <td>Дополнительные главы прикладной статистики</td>\n",
              "      <td>Дополнительные главы прикладной статистики</td>\n",
              "      <td>Промышленное программирование на языке Java</td>\n",
              "    </tr>\n",
              "  </tbody>\n",
              "</table>\n",
              "</div>\n",
              "    <div class=\"colab-df-buttons\">\n",
              "\n",
              "  <div class=\"colab-df-container\">\n",
              "    <button class=\"colab-df-convert\" onclick=\"convertToInteractive('df-f8a820eb-ddba-41a0-ba6d-bef6367e110f')\"\n",
              "            title=\"Convert this dataframe to an interactive table.\"\n",
              "            style=\"display:none;\">\n",
              "\n",
              "  <svg xmlns=\"http://www.w3.org/2000/svg\" height=\"24px\" viewBox=\"0 -960 960 960\">\n",
              "    <path d=\"M120-120v-720h720v720H120Zm60-500h600v-160H180v160Zm220 220h160v-160H400v160Zm0 220h160v-160H400v160ZM180-400h160v-160H180v160Zm440 0h160v-160H620v160ZM180-180h160v-160H180v160Zm440 0h160v-160H620v160Z\"/>\n",
              "  </svg>\n",
              "    </button>\n",
              "\n",
              "  <style>\n",
              "    .colab-df-container {\n",
              "      display:flex;\n",
              "      gap: 12px;\n",
              "    }\n",
              "\n",
              "    .colab-df-convert {\n",
              "      background-color: #E8F0FE;\n",
              "      border: none;\n",
              "      border-radius: 50%;\n",
              "      cursor: pointer;\n",
              "      display: none;\n",
              "      fill: #1967D2;\n",
              "      height: 32px;\n",
              "      padding: 0 0 0 0;\n",
              "      width: 32px;\n",
              "    }\n",
              "\n",
              "    .colab-df-convert:hover {\n",
              "      background-color: #E2EBFA;\n",
              "      box-shadow: 0px 1px 2px rgba(60, 64, 67, 0.3), 0px 1px 3px 1px rgba(60, 64, 67, 0.15);\n",
              "      fill: #174EA6;\n",
              "    }\n",
              "\n",
              "    .colab-df-buttons div {\n",
              "      margin-bottom: 4px;\n",
              "    }\n",
              "\n",
              "    [theme=dark] .colab-df-convert {\n",
              "      background-color: #3B4455;\n",
              "      fill: #D2E3FC;\n",
              "    }\n",
              "\n",
              "    [theme=dark] .colab-df-convert:hover {\n",
              "      background-color: #434B5C;\n",
              "      box-shadow: 0px 1px 3px 1px rgba(0, 0, 0, 0.15);\n",
              "      filter: drop-shadow(0px 1px 2px rgba(0, 0, 0, 0.3));\n",
              "      fill: #FFFFFF;\n",
              "    }\n",
              "  </style>\n",
              "\n",
              "    <script>\n",
              "      const buttonEl =\n",
              "        document.querySelector('#df-f8a820eb-ddba-41a0-ba6d-bef6367e110f button.colab-df-convert');\n",
              "      buttonEl.style.display =\n",
              "        google.colab.kernel.accessAllowed ? 'block' : 'none';\n",
              "\n",
              "      async function convertToInteractive(key) {\n",
              "        const element = document.querySelector('#df-f8a820eb-ddba-41a0-ba6d-bef6367e110f');\n",
              "        const dataTable =\n",
              "          await google.colab.kernel.invokeFunction('convertToInteractive',\n",
              "                                                    [key], {});\n",
              "        if (!dataTable) return;\n",
              "\n",
              "        const docLinkHtml = 'Like what you see? Visit the ' +\n",
              "          '<a target=\"_blank\" href=https://colab.research.google.com/notebooks/data_table.ipynb>data table notebook</a>'\n",
              "          + ' to learn more about interactive tables.';\n",
              "        element.innerHTML = '';\n",
              "        dataTable['output_type'] = 'display_data';\n",
              "        await google.colab.output.renderOutput(dataTable, element);\n",
              "        const docLink = document.createElement('div');\n",
              "        docLink.innerHTML = docLinkHtml;\n",
              "        element.appendChild(docLink);\n",
              "      }\n",
              "    </script>\n",
              "  </div>\n",
              "\n",
              "    </div>\n",
              "  </div>\n"
            ],
            "application/vnd.google.colaboratory.intrinsic+json": {
              "type": "dataframe",
              "summary": "{\n  \"name\": \"df[df['id'] == 'abceddfa2fc4eae8cff4a4e712abb3fb'][['percentile','spring_1', 'spring_2', 'spring_3', 'course1']]\",\n  \"rows\": 1,\n  \"fields\": [\n    {\n      \"column\": \"percentile\",\n      \"properties\": {\n        \"dtype\": \"number\",\n        \"std\": null,\n        \"min\": 0.3452914798206278,\n        \"max\": 0.3452914798206278,\n        \"num_unique_values\": 1,\n        \"samples\": [\n          0.3452914798206278\n        ],\n        \"semantic_type\": \"\",\n        \"description\": \"\"\n      }\n    },\n    {\n      \"column\": \"spring_1\",\n      \"properties\": {\n        \"dtype\": \"string\",\n        \"num_unique_values\": 1,\n        \"samples\": [\n          \"\\u041f\\u0440\\u043e\\u043c\\u044b\\u0448\\u043b\\u0435\\u043d\\u043d\\u043e\\u0435 \\u043f\\u0440\\u043e\\u0433\\u0440\\u0430\\u043c\\u043c\\u0438\\u0440\\u043e\\u0432\\u0430\\u043d\\u0438\\u0435 \\u043d\\u0430 \\u044f\\u0437\\u044b\\u043a\\u0435 Java\"\n        ],\n        \"semantic_type\": \"\",\n        \"description\": \"\"\n      }\n    },\n    {\n      \"column\": \"spring_2\",\n      \"properties\": {\n        \"dtype\": \"string\",\n        \"num_unique_values\": 1,\n        \"samples\": [\n          \"\\u0414\\u043e\\u043f\\u043e\\u043b\\u043d\\u0438\\u0442\\u0435\\u043b\\u044c\\u043d\\u044b\\u0435 \\u0433\\u043b\\u0430\\u0432\\u044b \\u043f\\u0440\\u0438\\u043a\\u043b\\u0430\\u0434\\u043d\\u043e\\u0439 \\u0441\\u0442\\u0430\\u0442\\u0438\\u0441\\u0442\\u0438\\u043a\\u0438\"\n        ],\n        \"semantic_type\": \"\",\n        \"description\": \"\"\n      }\n    },\n    {\n      \"column\": \"spring_3\",\n      \"properties\": {\n        \"dtype\": \"string\",\n        \"num_unique_values\": 1,\n        \"samples\": [\n          \"\\u0414\\u043e\\u043f\\u043e\\u043b\\u043d\\u0438\\u0442\\u0435\\u043b\\u044c\\u043d\\u044b\\u0435 \\u0433\\u043b\\u0430\\u0432\\u044b \\u043f\\u0440\\u0438\\u043a\\u043b\\u0430\\u0434\\u043d\\u043e\\u0439 \\u0441\\u0442\\u0430\\u0442\\u0438\\u0441\\u0442\\u0438\\u043a\\u0438\"\n        ],\n        \"semantic_type\": \"\",\n        \"description\": \"\"\n      }\n    },\n    {\n      \"column\": \"course1\",\n      \"properties\": {\n        \"dtype\": \"string\",\n        \"num_unique_values\": 1,\n        \"samples\": [\n          \"\\u041f\\u0440\\u043e\\u043c\\u044b\\u0448\\u043b\\u0435\\u043d\\u043d\\u043e\\u0435 \\u043f\\u0440\\u043e\\u0433\\u0440\\u0430\\u043c\\u043c\\u0438\\u0440\\u043e\\u0432\\u0430\\u043d\\u0438\\u0435 \\u043d\\u0430 \\u044f\\u0437\\u044b\\u043a\\u0435 Java\"\n        ],\n        \"semantic_type\": \"\",\n        \"description\": \"\"\n      }\n    }\n  ]\n}"
            }
          },
          "metadata": {},
          "execution_count": 1876
        }
      ],
      "source": [
        "df['num_of_courses'] = 1\n",
        "df.loc[(df['17_group'] == 171) | (df['17_group'] == 172) | (df['17_group'] == 173), 'num_of_courses'] = 2\n",
        "\n",
        "# Парсим мопов\n",
        "df.loc[((df['17_group'] == 171) | (df['17_group'] == 172) | (df['is_ml_student'] == 1)) & (df['spring_3'] == 'Машинное обучение 2'), 'spring_3'] = \"ОШИБКА_МОП_НЕ_ВВЁЛ_КУРС_НОРМАЛЬНЫМ_ОБРАЗОМ\"\n",
        "df.loc[((df['17_group'] == 171) | (df['17_group'] == 172) | (df['is_ml_student'] == 1)) & (df['spring_2'] == 'Машинное обучение 2'), 'spring_2'] = df[((df['17_group'] == 171) | (df['17_group'] == 172) | (df['is_ml_student'] == 1)) & (df['spring_2'] == 'Машинное обучение 2')]['spring_2']\n",
        "col2 = df[((df['17_group'] == 171) | (df['17_group'] == 172) | (df['is_ml_student'] == 1)) & (df['spring_1'] == 'Машинное обучение 2')]['spring_2']\n",
        "df.loc[((df['17_group'] == 171) | (df['17_group'] == 172) | (df['is_ml_student'] == 1)) & (df['spring_1'] == 'Машинное обучение 2'), 'spring_2'] = df[((df['17_group'] == 171) | (df['17_group'] == 172) | (df['is_ml_student'] == 1)) & (df['spring_1'] == 'Машинное обучение 2')]['spring_3']\n",
        "df.loc[((df['17_group'] == 171) | (df['17_group'] == 172) | (df['is_ml_student'] == 1)) & (df['spring_1'] == 'Машинное обучение 2'), 'spring_1'] = col2\n",
        "\n",
        "df['course1'] = ''\n",
        "df['course2'] = ''\n",
        "\n",
        "course_names = pd.concat([df['spring_1'], df['spring_2'], df['spring_3']]).unique()\n",
        "courses = {}\n",
        "for i in course_names:\n",
        "  courses[i] = 30\n",
        "courses[\"Обучение с подкреплением\"] = 60\n",
        "courses[\"Анализ данных в бизнесе\"] = 60\n",
        "\n",
        "for i in course_names:\n",
        "  ind = df[(df['spring_1'] == i) | ((df['num_of_courses'] == 2)&(df['spring_2'] == i))].nsmallest(courses[i], 'percentile').index\n",
        "  courses[i] -= len(ind)\n",
        "\n",
        "  df.loc[(df.index.isin(ind))&(df['course1'] != ''), 'course2'] = i\n",
        "  df.loc[(df.index.isin(ind))&(df['course1'] == ''), 'course1'] = i\n",
        "\n",
        "for i in course_names:\n",
        "  ind = df[(((df['num_of_courses'] == 1)&(df['course1'] == '')&(df['spring_2'] == i)) | \\\n",
        "            ((df['num_of_courses'] == 2)&(df['course2'] == '')&(df['spring_3'] == i)&(df['course1'] != i)))].nsmallest(courses[i], 'percentile').index\n",
        "  courses[i] -= len(ind)\n",
        "\n",
        "  df.loc[(df.index.isin(ind))&(df['course1'] != ''), 'course2'] = i\n",
        "  df.loc[(df.index.isin(ind))&(df['course1'] == ''), 'course1'] = i\n",
        "\n",
        "for i in course_names:\n",
        "  ind = df[(df['course1'] == '') & \\\n",
        "   (df['spring_3'] == i)&(df['num_of_courses'] == 1)].nsmallest(courses[i], 'percentile').index\n",
        "  courses[i] -= len(ind)\n",
        "\n",
        "  df.loc[(df.index.isin(ind)), 'course1'] = i\n",
        "\n",
        "df.loc[(df['num_of_courses'] == 1)&(df['course1'] == ''), 'course1'] = '???'\n",
        "df.loc[(df['num_of_courses'] == 1), 'course2'] = '-'\n",
        "df.loc[(df['num_of_courses'] == 2)&(df['course1'] == ''), 'course1'] = '???'\n",
        "df.loc[(df['num_of_courses'] == 2)&(df['course2'] == ''), 'course2'] = '???'\n",
        "res = df[['id', 'course1', 'course2']]\n",
        "res.rename(columns={\"id\":\"ID\"}, inplace = True)\n",
        "res.to_csv('res_spring.csv', index=None)\n"
      ]
    },
    {
      "cell_type": "markdown",
      "metadata": {
        "id": "It7QQZLYhLu7"
      },
      "source": [
        "**Отправьте свой файл res_spring.csv в контест (будет в ближайшее время, следите за новостями) и прикрепите/укажите ниже ваш никнейм и ссылку на успешную посылку.**"
      ]
    },
    {
      "cell_type": "markdown",
      "source": [
        "Ник: vrbigaev@edu.hse.ru\n",
        "\n",
        "[Посылка](https://contest.yandex.ru/contest/68637/run-report/119574898/)"
      ],
      "metadata": {
        "id": "F-TfIQULZs6R"
      }
    },
    {
      "cell_type": "markdown",
      "metadata": {
        "id": "1YcouVTihLu7"
      },
      "source": [
        "На всякий случай просим вас сдать вместе с ноутбуком файл res_spring.csv в anytask"
      ]
    },
    {
      "cell_type": "markdown",
      "metadata": {
        "id": "uY_OY6inhLu7"
      },
      "source": [
        "Вставьте картинку, описывающую ваш опыт выполнения этого задания:"
      ]
    },
    {
      "cell_type": "markdown",
      "source": [
        "![lobotomy-corp.gif](data:image/gif;base64,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)"
      ],
      "metadata": {
        "id": "UTxUZcp7Z4NH"
      }
    }
  ],
  "metadata": {
    "colab": {
      "provenance": []
    },
    "kernelspec": {
      "display_name": "Python 3 (ipykernel)",
      "language": "python",
      "name": "python3"
    },
    "language_info": {
      "codemirror_mode": {
        "name": "ipython",
        "version": 3
      },
      "file_extension": ".py",
      "mimetype": "text/x-python",
      "name": "python",
      "nbconvert_exporter": "python",
      "pygments_lexer": "ipython3",
      "version": "3.10.4"
    },
    "varInspector": {
      "cols": {
        "lenName": 16,
        "lenType": 16,
        "lenVar": 40
      },
      "kernels_config": {
        "python": {
          "delete_cmd_postfix": "",
          "delete_cmd_prefix": "del ",
          "library": "var_list.py",
          "varRefreshCmd": "print(var_dic_list())"
        },
        "r": {
          "delete_cmd_postfix": ") ",
          "delete_cmd_prefix": "rm(",
          "library": "var_list.r",
          "varRefreshCmd": "cat(var_dic_list()) "
        }
      },
      "types_to_exclude": [
        "module",
        "function",
        "builtin_function_or_method",
        "instance",
        "_Feature"
      ],
      "window_display": false
    },
    "vscode": {
      "interpreter": {
        "hash": "e7370f93d1d0cde622a1f8e1c04877d8463912d04d973331ad4851f04de6915a"
      }
    }
  },
  "nbformat": 4,
  "nbformat_minor": 0
}